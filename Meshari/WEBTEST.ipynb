{
 "cells": [
  {
   "cell_type": "code",
   "execution_count": 52,
   "id": "259b73e4",
   "metadata": {},
   "outputs": [],
   "source": [
    "import snscrape.modules.twitter as sntwitter\n",
    "import pandas as pd\n",
    "import numpy as np\n",
    "from tensorflow.keras.preprocessing.sequence import pad_sequences\n",
    "import tensorflow as tf\n",
    "import pickle\n",
    "from pickle import load"
   ]
  },
  {
   "cell_type": "code",
   "execution_count": 53,
   "id": "cb809ce2",
   "metadata": {},
   "outputs": [],
   "source": [
    "# Created a list to append all tweet attributes(data)\n",
    "attributes_container = []\n",
    "\n",
    "# Using TwitterSearchScraper to scrape data and append tweets to list\n",
    "for i,tweet in enumerate(sntwitter.TwitterSearchScraper('from:Testy98962010').get_items()):\n",
    "    if i>=100:\n",
    "        break\n",
    "    attributes_container.append([tweet.date, tweet.likeCount, tweet.sourceLabel, tweet.content])\n",
    "    \n",
    "# Creating a dataframe from the tweets list above \n",
    "tweets_df = pd.DataFrame(attributes_container, columns=[\"Date Created\", \"Number of Likes\", \"Source of Tweet\", \"Tweets\"])"
   ]
  },
  {
   "cell_type": "code",
   "execution_count": 54,
   "id": "80b8ae9e",
   "metadata": {},
   "outputs": [
    {
     "data": {
      "text/plain": [
       "<bound method NDFrame.describe of                Date Created  Number of Likes  Source of Tweet  \\\n",
       "0 2022-12-04 10:42:22+00:00                0  Twitter Web App   \n",
       "1 2022-12-04 10:36:46+00:00                0  Twitter Web App   \n",
       "\n",
       "                      Tweets  \n",
       "0                 It worked!  \n",
       "1  Hi, This is test number 1  >"
      ]
     },
     "execution_count": 54,
     "metadata": {},
     "output_type": "execute_result"
    }
   ],
   "source": [
    "tweets_df.describe"
   ]
  },
  {
   "cell_type": "code",
   "execution_count": 55,
   "id": "a652725f",
   "metadata": {},
   "outputs": [
    {
     "data": {
      "text/plain": [
       "0   2022-12-04 10:42:22+00:00\n",
       "1   2022-12-04 10:36:46+00:00\n",
       "Name: Date Created, dtype: datetime64[ns, UTC]"
      ]
     },
     "execution_count": 55,
     "metadata": {},
     "output_type": "execute_result"
    }
   ],
   "source": [
    "a=pd.to_datetime(tweets_df['Date Created'])\n",
    "a"
   ]
  },
  {
   "cell_type": "code",
   "execution_count": 56,
   "id": "11b7d77c",
   "metadata": {},
   "outputs": [
    {
     "data": {
      "text/html": [
       "<div>\n",
       "<style scoped>\n",
       "    .dataframe tbody tr th:only-of-type {\n",
       "        vertical-align: middle;\n",
       "    }\n",
       "\n",
       "    .dataframe tbody tr th {\n",
       "        vertical-align: top;\n",
       "    }\n",
       "\n",
       "    .dataframe thead th {\n",
       "        text-align: right;\n",
       "    }\n",
       "</style>\n",
       "<table border=\"1\" class=\"dataframe\">\n",
       "  <thead>\n",
       "    <tr style=\"text-align: right;\">\n",
       "      <th></th>\n",
       "      <th>Date Created</th>\n",
       "      <th>Number of Likes</th>\n",
       "      <th>Source of Tweet</th>\n",
       "      <th>Tweets</th>\n",
       "    </tr>\n",
       "  </thead>\n",
       "  <tbody>\n",
       "    <tr>\n",
       "      <th>0</th>\n",
       "      <td>2022-12-04 10:42:22+00:00</td>\n",
       "      <td>0</td>\n",
       "      <td>Twitter Web App</td>\n",
       "      <td>It worked!</td>\n",
       "    </tr>\n",
       "    <tr>\n",
       "      <th>1</th>\n",
       "      <td>2022-12-04 10:36:46+00:00</td>\n",
       "      <td>0</td>\n",
       "      <td>Twitter Web App</td>\n",
       "      <td>Hi, This is test number 1</td>\n",
       "    </tr>\n",
       "  </tbody>\n",
       "</table>\n",
       "</div>"
      ],
      "text/plain": [
       "               Date Created  Number of Likes  Source of Tweet  \\\n",
       "0 2022-12-04 10:42:22+00:00                0  Twitter Web App   \n",
       "1 2022-12-04 10:36:46+00:00                0  Twitter Web App   \n",
       "\n",
       "                      Tweets  \n",
       "0                 It worked!  \n",
       "1  Hi, This is test number 1  "
      ]
     },
     "execution_count": 56,
     "metadata": {},
     "output_type": "execute_result"
    }
   ],
   "source": [
    "tweets_df"
   ]
  },
  {
   "cell_type": "code",
   "execution_count": 57,
   "id": "217eedf1",
   "metadata": {},
   "outputs": [
    {
     "data": {
      "text/plain": [
       "<AxesSubplot: xlabel='Date Created'>"
      ]
     },
     "execution_count": 57,
     "metadata": {},
     "output_type": "execute_result"
    },
    {
     "data": {
      "image/png": "[encoded data removed]",
      "text/plain": [
       "<Figure size 640x480 with 1 Axes>"
      ]
     },
     "metadata": {},
     "output_type": "display_data"
    }
   ],
   "source": [
    "res = tweets_df.groupby(tweets_df[\"Date Created\"].dt.hour).count().reindex(np.arange(24), fill_value=0)\n",
    "res.plot(kind=\"bar\")\n"
   ]
  },
  {
   "cell_type": "markdown",
   "id": "49353593",
   "metadata": {},
   "source": [
    "# IMPORT MODEL AND SCALER"
   ]
  },
  {
   "cell_type": "code",
   "execution_count": 58,
   "id": "7260c3a4",
   "metadata": {},
   "outputs": [],
   "source": [
    "model = tf.keras.models.load_model('model.h5')\n",
    "vectorizer = load(open('tokenizer.pkl', 'rb'))\n",
    " "
   ]
  },
  {
   "cell_type": "code",
   "execution_count": 59,
   "id": "12f12706",
   "metadata": {},
   "outputs": [],
   "source": [
    "TweetsToProcess=tweets_df['Tweets']"
   ]
  },
  {
   "cell_type": "markdown",
   "id": "777dfffb",
   "metadata": {},
   "source": [
    "# Predict Tweets and add them to the dataframe"
   ]
  },
  {
   "cell_type": "code",
   "execution_count": 60,
   "id": "ad8a6dc9",
   "metadata": {},
   "outputs": [],
   "source": [
    " #Apply scaler to data\n",
    "x_test = pad_sequences(vectorizer.texts_to_sequences(TweetsToProcess), maxlen=300)"
   ]
  },
  {
   "cell_type": "code",
   "execution_count": 61,
   "id": "c562cd57",
   "metadata": {},
   "outputs": [
    {
     "name": "stdout",
     "output_type": "stream",
     "text": [
      "WARNING:tensorflow:5 out of the last 7 calls to <function Model.make_predict_function.<locals>.predict_function at 0x0000026F89A51AF0> triggered tf.function retracing. Tracing is expensive and the excessive number of tracings could be due to (1) creating @tf.function repeatedly in a loop, (2) passing tensors with different shapes, (3) passing Python objects instead of tensors. For (1), please define your @tf.function outside of the loop. For (2), @tf.function has reduce_retracing=True option that can avoid unnecessary retracing. For (3), please refer to https://www.tensorflow.org/guide/function#controlling_retracing and https://www.tensorflow.org/api_docs/python/tf/function for  more details.\n",
      "1/1 [==============================] - 0s 270ms/step\n"
     ]
    }
   ],
   "source": [
    "score = model.predict(x_test)"
   ]
  },
  {
   "cell_type": "code",
   "execution_count": 62,
   "id": "9b7edd89",
   "metadata": {},
   "outputs": [
    {
     "data": {
      "text/plain": [
       "array([[0.30913222],\n",
       "       [0.00379089]], dtype=float32)"
      ]
     },
     "execution_count": 62,
     "metadata": {},
     "output_type": "execute_result"
    }
   ],
   "source": [
    "score"
   ]
  },
  {
   "cell_type": "code",
   "execution_count": 63,
   "id": "7c6eb677",
   "metadata": {},
   "outputs": [],
   "source": [
    "tweets_df[\"Predictions_Percentange\"]=score"
   ]
  },
  {
   "cell_type": "markdown",
   "id": "27a40c6f",
   "metadata": {},
   "source": [
    "### If percentange is bigger than or equal to 0.5 then we can classify this tweet as a depressing one\n",
    "### Rule of thumb the closer to 1 it gets the more depressing it is"
   ]
  },
  {
   "cell_type": "code",
   "execution_count": 64,
   "id": "f9969cb4",
   "metadata": {},
   "outputs": [
    {
     "data": {
      "text/html": [
       "<div>\n",
       "<style scoped>\n",
       "    .dataframe tbody tr th:only-of-type {\n",
       "        vertical-align: middle;\n",
       "    }\n",
       "\n",
       "    .dataframe tbody tr th {\n",
       "        vertical-align: top;\n",
       "    }\n",
       "\n",
       "    .dataframe thead th {\n",
       "        text-align: right;\n",
       "    }\n",
       "</style>\n",
       "<table border=\"1\" class=\"dataframe\">\n",
       "  <thead>\n",
       "    <tr style=\"text-align: right;\">\n",
       "      <th></th>\n",
       "      <th>Date Created</th>\n",
       "      <th>Number of Likes</th>\n",
       "      <th>Source of Tweet</th>\n",
       "      <th>Tweets</th>\n",
       "      <th>Predictions_Percentange</th>\n",
       "    </tr>\n",
       "  </thead>\n",
       "  <tbody>\n",
       "    <tr>\n",
       "      <th>0</th>\n",
       "      <td>2022-12-04 10:42:22+00:00</td>\n",
       "      <td>0</td>\n",
       "      <td>Twitter Web App</td>\n",
       "      <td>It worked!</td>\n",
       "      <td>0.309132</td>\n",
       "    </tr>\n",
       "    <tr>\n",
       "      <th>1</th>\n",
       "      <td>2022-12-04 10:36:46+00:00</td>\n",
       "      <td>0</td>\n",
       "      <td>Twitter Web App</td>\n",
       "      <td>Hi, This is test number 1</td>\n",
       "      <td>0.003791</td>\n",
       "    </tr>\n",
       "  </tbody>\n",
       "</table>\n",
       "</div>"
      ],
      "text/plain": [
       "               Date Created  Number of Likes  Source of Tweet  \\\n",
       "0 2022-12-04 10:42:22+00:00                0  Twitter Web App   \n",
       "1 2022-12-04 10:36:46+00:00                0  Twitter Web App   \n",
       "\n",
       "                      Tweets  Predictions_Percentange  \n",
       "0                 It worked!                 0.309132  \n",
       "1  Hi, This is test number 1                 0.003791  "
      ]
     },
     "execution_count": 64,
     "metadata": {},
     "output_type": "execute_result"
    }
   ],
   "source": [
    "tweets_df"
   ]
  },
  {
   "cell_type": "code",
   "execution_count": 65,
   "id": "3d8a0eb5",
   "metadata": {},
   "outputs": [],
   "source": [
    "tweets_df[\"Predictions\"]=np.where(tweets_df['Predictions_Percentange']>=0.5, \"Depression\", \"Non-Depression\")\n"
   ]
  },
  {
   "cell_type": "code",
   "execution_count": 66,
   "id": "59ff9ceb",
   "metadata": {},
   "outputs": [
    {
     "data": {
      "text/html": [
       "<div>\n",
       "<style scoped>\n",
       "    .dataframe tbody tr th:only-of-type {\n",
       "        vertical-align: middle;\n",
       "    }\n",
       "\n",
       "    .dataframe tbody tr th {\n",
       "        vertical-align: top;\n",
       "    }\n",
       "\n",
       "    .dataframe thead th {\n",
       "        text-align: right;\n",
       "    }\n",
       "</style>\n",
       "<table border=\"1\" class=\"dataframe\">\n",
       "  <thead>\n",
       "    <tr style=\"text-align: right;\">\n",
       "      <th></th>\n",
       "      <th>Date Created</th>\n",
       "      <th>Number of Likes</th>\n",
       "      <th>Source of Tweet</th>\n",
       "      <th>Tweets</th>\n",
       "      <th>Predictions_Percentange</th>\n",
       "      <th>Predictions</th>\n",
       "    </tr>\n",
       "  </thead>\n",
       "  <tbody>\n",
       "    <tr>\n",
       "      <th>0</th>\n",
       "      <td>2022-12-04 10:42:22+00:00</td>\n",
       "      <td>0</td>\n",
       "      <td>Twitter Web App</td>\n",
       "      <td>It worked!</td>\n",
       "      <td>0.309132</td>\n",
       "      <td>Non-Depression</td>\n",
       "    </tr>\n",
       "    <tr>\n",
       "      <th>1</th>\n",
       "      <td>2022-12-04 10:36:46+00:00</td>\n",
       "      <td>0</td>\n",
       "      <td>Twitter Web App</td>\n",
       "      <td>Hi, This is test number 1</td>\n",
       "      <td>0.003791</td>\n",
       "      <td>Non-Depression</td>\n",
       "    </tr>\n",
       "  </tbody>\n",
       "</table>\n",
       "</div>"
      ],
      "text/plain": [
       "               Date Created  Number of Likes  Source of Tweet  \\\n",
       "0 2022-12-04 10:42:22+00:00                0  Twitter Web App   \n",
       "1 2022-12-04 10:36:46+00:00                0  Twitter Web App   \n",
       "\n",
       "                      Tweets  Predictions_Percentange     Predictions  \n",
       "0                 It worked!                 0.309132  Non-Depression  \n",
       "1  Hi, This is test number 1                 0.003791  Non-Depression  "
      ]
     },
     "execution_count": 66,
     "metadata": {},
     "output_type": "execute_result"
    }
   ],
   "source": [
    "tweets_df"
   ]
  }
 ],
 "metadata": {
  "kernelspec": {
   "display_name": "Python 3.9.0 64-bit",
   "language": "python",
   "name": "python3"
  },
  "language_info": {
   "codemirror_mode": {
    "name": "ipython",
    "version": 3
   },
   "file_extension": ".py",
   "mimetype": "text/x-python",
   "name": "python",
   "nbconvert_exporter": "python",
   "pygments_lexer": "ipython3",
   "version": "3.9.0"
  },
  "vscode": {
   "interpreter": {
    "hash": "949d6ff4871dbeb5a7ca38875d470f3c909aa9872336c2e2afa575d18130e986"
   }
  }
 },
 "nbformat": 4,
 "nbformat_minor": 5
}
