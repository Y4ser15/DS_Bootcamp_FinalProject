{
 "cells": [
  {
   "cell_type": "code",
   "execution_count": 85,
   "id": "259b73e4",
   "metadata": {},
   "outputs": [],
   "source": [
    "import snscrape.modules.twitter as sntwitter\n",
    "import pandas as pd\n",
    "import numpy as np\n",
    "from tensorflow.keras.preprocessing.sequence import pad_sequences\n",
    "import tensorflow as tf\n",
    "import pickle\n",
    "from pickle import load"
   ]
  },
  {
   "cell_type": "code",
   "execution_count": 86,
   "id": "cb809ce2",
   "metadata": {},
   "outputs": [],
   "source": [
    "# Created a list to append all tweet attributes(data)\n",
    "attributes_container = []\n",
    "\n",
    "# Using TwitterSearchScraper to scrape data and append tweets to list\n",
    "for i,tweet in enumerate(sntwitter.TwitterSearchScraper('from:Testy98962010').get_items()):\n",
    "    if i>=100:\n",
    "        break\n",
    "    attributes_container.append([tweet.date, tweet.likeCount, tweet.sourceLabel, tweet.content])\n",
    "    \n",
    "# Creating a dataframe from the tweets list above \n",
    "tweets_df = pd.DataFrame(attributes_container, columns=[\"Date_Created\", \"Number_of_Likes\", \"Source_of_Tweet\", \"Tweets\"])"
   ]
  },
  {
   "cell_type": "code",
   "execution_count": 87,
   "id": "80b8ae9e",
   "metadata": {},
   "outputs": [
    {
     "data": {
      "text/plain": [
       "<bound method NDFrame.describe of                 Date_Created  Number_of_Likes  Source_of_Tweet  \\\n",
       "0  2022-12-04 21:32:43+00:00                0  Twitter Web App   \n",
       "1  2022-12-04 21:32:28+00:00                0  Twitter Web App   \n",
       "2  2022-12-04 21:32:20+00:00                0  Twitter Web App   \n",
       "3  2022-12-04 21:32:00+00:00                0  Twitter Web App   \n",
       "4  2022-12-04 21:31:50+00:00                0  Twitter Web App   \n",
       "..                       ...              ...              ...   \n",
       "57 2022-12-04 21:18:54+00:00                0  Twitter Web App   \n",
       "58 2022-12-04 21:18:39+00:00                0  Twitter Web App   \n",
       "59 2022-12-04 21:18:27+00:00                0  Twitter Web App   \n",
       "60 2022-12-04 10:42:22+00:00                0  Twitter Web App   \n",
       "61 2022-12-04 10:36:46+00:00                0  Twitter Web App   \n",
       "\n",
       "                                               Tweets  \n",
       "0   I’m getting my dream car tomorrow. This is a h...  \n",
       "1   At 30, I'm done.\\nHey fuckers It's been one he...  \n",
       "2   I'm dating my dream partner and I feel like I'...  \n",
       "3   I booked my first ever holiday in January 2023...  \n",
       "4   Snoop Dogg's kid show about building emotional...  \n",
       "..                                                ...  \n",
       "57  My mother won't leave me alone. I'm DESPERATEL...  \n",
       "58  I (15M) got rejected by suicide hotline, wanna...  \n",
       "59  I am a extremely depressed M21 who sometimes t...  \n",
       "60                                         It worked!  \n",
       "61                          Hi, This is test number 1  \n",
       "\n",
       "[62 rows x 4 columns]>"
      ]
     },
     "execution_count": 87,
     "metadata": {},
     "output_type": "execute_result"
    }
   ],
   "source": [
    "tweets_df.describe"
   ]
  },
  {
   "cell_type": "code",
   "execution_count": 88,
   "id": "a652725f",
   "metadata": {},
   "outputs": [
    {
     "data": {
      "text/plain": [
       "0    2022-12-04 21:32:43+00:00\n",
       "1    2022-12-04 21:32:28+00:00\n",
       "2    2022-12-04 21:32:20+00:00\n",
       "3    2022-12-04 21:32:00+00:00\n",
       "4    2022-12-04 21:31:50+00:00\n",
       "                ...           \n",
       "57   2022-12-04 21:18:54+00:00\n",
       "58   2022-12-04 21:18:39+00:00\n",
       "59   2022-12-04 21:18:27+00:00\n",
       "60   2022-12-04 10:42:22+00:00\n",
       "61   2022-12-04 10:36:46+00:00\n",
       "Name: Date_Created, Length: 62, dtype: datetime64[ns, UTC]"
      ]
     },
     "execution_count": 88,
     "metadata": {},
     "output_type": "execute_result"
    }
   ],
   "source": [
    "a=pd.to_datetime(tweets_df['Date_Created'])\n",
    "a"
   ]
  },
  {
   "cell_type": "code",
   "execution_count": 89,
   "id": "11b7d77c",
   "metadata": {},
   "outputs": [
    {
     "data": {
      "text/html": [
       "<div>\n",
       "<style scoped>\n",
       "    .dataframe tbody tr th:only-of-type {\n",
       "        vertical-align: middle;\n",
       "    }\n",
       "\n",
       "    .dataframe tbody tr th {\n",
       "        vertical-align: top;\n",
       "    }\n",
       "\n",
       "    .dataframe thead th {\n",
       "        text-align: right;\n",
       "    }\n",
       "</style>\n",
       "<table border=\"1\" class=\"dataframe\">\n",
       "  <thead>\n",
       "    <tr style=\"text-align: right;\">\n",
       "      <th></th>\n",
       "      <th>Date_Created</th>\n",
       "      <th>Number_of_Likes</th>\n",
       "      <th>Source_of_Tweet</th>\n",
       "      <th>Tweets</th>\n",
       "    </tr>\n",
       "  </thead>\n",
       "  <tbody>\n",
       "    <tr>\n",
       "      <th>0</th>\n",
       "      <td>2022-12-04 21:32:43+00:00</td>\n",
       "      <td>0</td>\n",
       "      <td>Twitter Web App</td>\n",
       "      <td>I’m getting my dream car tomorrow. This is a h...</td>\n",
       "    </tr>\n",
       "    <tr>\n",
       "      <th>1</th>\n",
       "      <td>2022-12-04 21:32:28+00:00</td>\n",
       "      <td>0</td>\n",
       "      <td>Twitter Web App</td>\n",
       "      <td>At 30, I'm done.\\nHey fuckers It's been one he...</td>\n",
       "    </tr>\n",
       "    <tr>\n",
       "      <th>2</th>\n",
       "      <td>2022-12-04 21:32:20+00:00</td>\n",
       "      <td>0</td>\n",
       "      <td>Twitter Web App</td>\n",
       "      <td>I'm dating my dream partner and I feel like I'...</td>\n",
       "    </tr>\n",
       "    <tr>\n",
       "      <th>3</th>\n",
       "      <td>2022-12-04 21:32:00+00:00</td>\n",
       "      <td>0</td>\n",
       "      <td>Twitter Web App</td>\n",
       "      <td>I booked my first ever holiday in January 2023...</td>\n",
       "    </tr>\n",
       "    <tr>\n",
       "      <th>4</th>\n",
       "      <td>2022-12-04 21:31:50+00:00</td>\n",
       "      <td>0</td>\n",
       "      <td>Twitter Web App</td>\n",
       "      <td>Snoop Dogg's kid show about building emotional...</td>\n",
       "    </tr>\n",
       "    <tr>\n",
       "      <th>...</th>\n",
       "      <td>...</td>\n",
       "      <td>...</td>\n",
       "      <td>...</td>\n",
       "      <td>...</td>\n",
       "    </tr>\n",
       "    <tr>\n",
       "      <th>57</th>\n",
       "      <td>2022-12-04 21:18:54+00:00</td>\n",
       "      <td>0</td>\n",
       "      <td>Twitter Web App</td>\n",
       "      <td>My mother won't leave me alone. I'm DESPERATEL...</td>\n",
       "    </tr>\n",
       "    <tr>\n",
       "      <th>58</th>\n",
       "      <td>2022-12-04 21:18:39+00:00</td>\n",
       "      <td>0</td>\n",
       "      <td>Twitter Web App</td>\n",
       "      <td>I (15M) got rejected by suicide hotline, wanna...</td>\n",
       "    </tr>\n",
       "    <tr>\n",
       "      <th>59</th>\n",
       "      <td>2022-12-04 21:18:27+00:00</td>\n",
       "      <td>0</td>\n",
       "      <td>Twitter Web App</td>\n",
       "      <td>I am a extremely depressed M21 who sometimes t...</td>\n",
       "    </tr>\n",
       "    <tr>\n",
       "      <th>60</th>\n",
       "      <td>2022-12-04 10:42:22+00:00</td>\n",
       "      <td>0</td>\n",
       "      <td>Twitter Web App</td>\n",
       "      <td>It worked!</td>\n",
       "    </tr>\n",
       "    <tr>\n",
       "      <th>61</th>\n",
       "      <td>2022-12-04 10:36:46+00:00</td>\n",
       "      <td>0</td>\n",
       "      <td>Twitter Web App</td>\n",
       "      <td>Hi, This is test number 1</td>\n",
       "    </tr>\n",
       "  </tbody>\n",
       "</table>\n",
       "<p>62 rows × 4 columns</p>\n",
       "</div>"
      ],
      "text/plain": [
       "                Date_Created  Number_of_Likes  Source_of_Tweet  \\\n",
       "0  2022-12-04 21:32:43+00:00                0  Twitter Web App   \n",
       "1  2022-12-04 21:32:28+00:00                0  Twitter Web App   \n",
       "2  2022-12-04 21:32:20+00:00                0  Twitter Web App   \n",
       "3  2022-12-04 21:32:00+00:00                0  Twitter Web App   \n",
       "4  2022-12-04 21:31:50+00:00                0  Twitter Web App   \n",
       "..                       ...              ...              ...   \n",
       "57 2022-12-04 21:18:54+00:00                0  Twitter Web App   \n",
       "58 2022-12-04 21:18:39+00:00                0  Twitter Web App   \n",
       "59 2022-12-04 21:18:27+00:00                0  Twitter Web App   \n",
       "60 2022-12-04 10:42:22+00:00                0  Twitter Web App   \n",
       "61 2022-12-04 10:36:46+00:00                0  Twitter Web App   \n",
       "\n",
       "                                               Tweets  \n",
       "0   I’m getting my dream car tomorrow. This is a h...  \n",
       "1   At 30, I'm done.\\nHey fuckers It's been one he...  \n",
       "2   I'm dating my dream partner and I feel like I'...  \n",
       "3   I booked my first ever holiday in January 2023...  \n",
       "4   Snoop Dogg's kid show about building emotional...  \n",
       "..                                                ...  \n",
       "57  My mother won't leave me alone. I'm DESPERATEL...  \n",
       "58  I (15M) got rejected by suicide hotline, wanna...  \n",
       "59  I am a extremely depressed M21 who sometimes t...  \n",
       "60                                         It worked!  \n",
       "61                          Hi, This is test number 1  \n",
       "\n",
       "[62 rows x 4 columns]"
      ]
     },
     "execution_count": 89,
     "metadata": {},
     "output_type": "execute_result"
    }
   ],
   "source": [
    "tweets_df"
   ]
  },
  {
   "cell_type": "code",
   "execution_count": 90,
   "id": "217eedf1",
   "metadata": {},
   "outputs": [
    {
     "data": {
      "text/plain": [
       "<AxesSubplot:xlabel='Date_Created'>"
      ]
     },
     "execution_count": 90,
     "metadata": {},
     "output_type": "execute_result"
    },
    {
     "data": {
      "image/png": "[encoded data removed]",
      "text/plain": [
       "<Figure size 640x480 with 1 Axes>"
      ]
     },
     "metadata": {},
     "output_type": "display_data"
    }
   ],
   "source": [
    "res = tweets_df.groupby(tweets_df[\"Date_Created\"].dt.hour).count().reindex(np.arange(24), fill_value=0)\n",
    "res.plot(kind=\"bar\")\n"
   ]
  },
  {
   "cell_type": "markdown",
   "id": "49353593",
   "metadata": {},
   "source": [
    "# IMPORT MODEL AND SCALER"
   ]
  },
  {
   "cell_type": "code",
   "execution_count": 91,
   "id": "7260c3a4",
   "metadata": {},
   "outputs": [],
   "source": [
    "model = tf.keras.models.load_model('model.h5')\n",
    "vectorizer = load(open('tokenizer.pkl', 'rb'))\n",
    " "
   ]
  },
  {
   "cell_type": "code",
   "execution_count": 92,
   "id": "12f12706",
   "metadata": {},
   "outputs": [],
   "source": [
    "TweetsToProcess=tweets_df['Tweets']"
   ]
  },
  {
   "cell_type": "markdown",
   "id": "777dfffb",
   "metadata": {},
   "source": [
    "# Predict Tweets and add them to the dataframe"
   ]
  },
  {
   "cell_type": "code",
   "execution_count": 93,
   "id": "ad8a6dc9",
   "metadata": {},
   "outputs": [],
   "source": [
    " #Apply scaler to data\n",
    "x_test = pad_sequences(vectorizer.texts_to_sequences(TweetsToProcess), maxlen=300)"
   ]
  },
  {
   "cell_type": "code",
   "execution_count": 94,
   "id": "c562cd57",
   "metadata": {},
   "outputs": [
    {
     "name": "stdout",
     "output_type": "stream",
     "text": [
      "2/2 [==============================] - 1s 218ms/step\n"
     ]
    }
   ],
   "source": [
    "score = model.predict(x_test)"
   ]
  },
  {
   "cell_type": "code",
   "execution_count": 95,
   "id": "9b7edd89",
   "metadata": {},
   "outputs": [
    {
     "data": {
      "text/plain": [
       "array([[0.02066787],\n",
       "       [0.00959434],\n",
       "       [0.09745753],\n",
       "       [0.0086446 ],\n",
       "       [0.01514261],\n",
       "       [0.9826904 ],\n",
       "       [0.26882964],\n",
       "       [0.03471799],\n",
       "       [0.9879385 ],\n",
       "       [0.96578336],\n",
       "       [0.38657907],\n",
       "       [0.14849816],\n",
       "       [0.01105361],\n",
       "       [0.26840603],\n",
       "       [0.00136493],\n",
       "       [0.98760384],\n",
       "       [0.9936177 ],\n",
       "       [0.053576  ],\n",
       "       [0.06472491],\n",
       "       [0.98866814],\n",
       "       [0.9922905 ],\n",
       "       [0.92940193],\n",
       "       [0.98391813],\n",
       "       [0.2810352 ],\n",
       "       [0.00451375],\n",
       "       [0.08388916],\n",
       "       [0.9971457 ],\n",
       "       [0.9910775 ],\n",
       "       [0.42892554],\n",
       "       [0.0584348 ],\n",
       "       [0.05672088],\n",
       "       [0.9648184 ],\n",
       "       [0.00794982],\n",
       "       [0.00111202],\n",
       "       [0.9957148 ],\n",
       "       [0.7737954 ],\n",
       "       [0.00166971],\n",
       "       [0.00185061],\n",
       "       [0.03298852],\n",
       "       [0.90498877],\n",
       "       [0.7033681 ],\n",
       "       [0.00848798],\n",
       "       [0.00284423],\n",
       "       [0.00276866],\n",
       "       [0.9825552 ],\n",
       "       [0.681489  ],\n",
       "       [0.00187505],\n",
       "       [0.964473  ],\n",
       "       [0.9825412 ],\n",
       "       [0.00257633],\n",
       "       [0.00197616],\n",
       "       [0.01788923],\n",
       "       [0.00186004],\n",
       "       [0.98344123],\n",
       "       [0.02045921],\n",
       "       [0.00165509],\n",
       "       [0.55158037],\n",
       "       [0.89646846],\n",
       "       [0.9962102 ],\n",
       "       [0.97864795],\n",
       "       [0.30913225],\n",
       "       [0.00379089]], dtype=float32)"
      ]
     },
     "execution_count": 95,
     "metadata": {},
     "output_type": "execute_result"
    }
   ],
   "source": [
    "score"
   ]
  },
  {
   "cell_type": "code",
   "execution_count": 96,
   "id": "7c6eb677",
   "metadata": {},
   "outputs": [],
   "source": [
    "tweets_df[\"Predictions_Percentange\"]=score"
   ]
  },
  {
   "cell_type": "markdown",
   "id": "27a40c6f",
   "metadata": {},
   "source": [
    "### If percentange is bigger than or equal to 0.5 then we can classify this tweet as a depressing one\n",
    "### Rule of thumb the closer to 1 it gets the more depressing it is"
   ]
  },
  {
   "cell_type": "code",
   "execution_count": 97,
   "id": "f9969cb4",
   "metadata": {},
   "outputs": [
    {
     "data": {
      "text/html": [
       "<div>\n",
       "<style scoped>\n",
       "    .dataframe tbody tr th:only-of-type {\n",
       "        vertical-align: middle;\n",
       "    }\n",
       "\n",
       "    .dataframe tbody tr th {\n",
       "        vertical-align: top;\n",
       "    }\n",
       "\n",
       "    .dataframe thead th {\n",
       "        text-align: right;\n",
       "    }\n",
       "</style>\n",
       "<table border=\"1\" class=\"dataframe\">\n",
       "  <thead>\n",
       "    <tr style=\"text-align: right;\">\n",
       "      <th></th>\n",
       "      <th>Date_Created</th>\n",
       "      <th>Number_of_Likes</th>\n",
       "      <th>Source_of_Tweet</th>\n",
       "      <th>Tweets</th>\n",
       "      <th>Predictions_Percentange</th>\n",
       "    </tr>\n",
       "  </thead>\n",
       "  <tbody>\n",
       "    <tr>\n",
       "      <th>0</th>\n",
       "      <td>2022-12-04 21:32:43+00:00</td>\n",
       "      <td>0</td>\n",
       "      <td>Twitter Web App</td>\n",
       "      <td>I’m getting my dream car tomorrow. This is a h...</td>\n",
       "      <td>0.020668</td>\n",
       "    </tr>\n",
       "    <tr>\n",
       "      <th>1</th>\n",
       "      <td>2022-12-04 21:32:28+00:00</td>\n",
       "      <td>0</td>\n",
       "      <td>Twitter Web App</td>\n",
       "      <td>At 30, I'm done.\\nHey fuckers It's been one he...</td>\n",
       "      <td>0.009594</td>\n",
       "    </tr>\n",
       "    <tr>\n",
       "      <th>2</th>\n",
       "      <td>2022-12-04 21:32:20+00:00</td>\n",
       "      <td>0</td>\n",
       "      <td>Twitter Web App</td>\n",
       "      <td>I'm dating my dream partner and I feel like I'...</td>\n",
       "      <td>0.097458</td>\n",
       "    </tr>\n",
       "    <tr>\n",
       "      <th>3</th>\n",
       "      <td>2022-12-04 21:32:00+00:00</td>\n",
       "      <td>0</td>\n",
       "      <td>Twitter Web App</td>\n",
       "      <td>I booked my first ever holiday in January 2023...</td>\n",
       "      <td>0.008645</td>\n",
       "    </tr>\n",
       "    <tr>\n",
       "      <th>4</th>\n",
       "      <td>2022-12-04 21:31:50+00:00</td>\n",
       "      <td>0</td>\n",
       "      <td>Twitter Web App</td>\n",
       "      <td>Snoop Dogg's kid show about building emotional...</td>\n",
       "      <td>0.015143</td>\n",
       "    </tr>\n",
       "    <tr>\n",
       "      <th>...</th>\n",
       "      <td>...</td>\n",
       "      <td>...</td>\n",
       "      <td>...</td>\n",
       "      <td>...</td>\n",
       "      <td>...</td>\n",
       "    </tr>\n",
       "    <tr>\n",
       "      <th>57</th>\n",
       "      <td>2022-12-04 21:18:54+00:00</td>\n",
       "      <td>0</td>\n",
       "      <td>Twitter Web App</td>\n",
       "      <td>My mother won't leave me alone. I'm DESPERATEL...</td>\n",
       "      <td>0.896468</td>\n",
       "    </tr>\n",
       "    <tr>\n",
       "      <th>58</th>\n",
       "      <td>2022-12-04 21:18:39+00:00</td>\n",
       "      <td>0</td>\n",
       "      <td>Twitter Web App</td>\n",
       "      <td>I (15M) got rejected by suicide hotline, wanna...</td>\n",
       "      <td>0.996210</td>\n",
       "    </tr>\n",
       "    <tr>\n",
       "      <th>59</th>\n",
       "      <td>2022-12-04 21:18:27+00:00</td>\n",
       "      <td>0</td>\n",
       "      <td>Twitter Web App</td>\n",
       "      <td>I am a extremely depressed M21 who sometimes t...</td>\n",
       "      <td>0.978648</td>\n",
       "    </tr>\n",
       "    <tr>\n",
       "      <th>60</th>\n",
       "      <td>2022-12-04 10:42:22+00:00</td>\n",
       "      <td>0</td>\n",
       "      <td>Twitter Web App</td>\n",
       "      <td>It worked!</td>\n",
       "      <td>0.309132</td>\n",
       "    </tr>\n",
       "    <tr>\n",
       "      <th>61</th>\n",
       "      <td>2022-12-04 10:36:46+00:00</td>\n",
       "      <td>0</td>\n",
       "      <td>Twitter Web App</td>\n",
       "      <td>Hi, This is test number 1</td>\n",
       "      <td>0.003791</td>\n",
       "    </tr>\n",
       "  </tbody>\n",
       "</table>\n",
       "<p>62 rows × 5 columns</p>\n",
       "</div>"
      ],
      "text/plain": [
       "                Date_Created  Number_of_Likes  Source_of_Tweet  \\\n",
       "0  2022-12-04 21:32:43+00:00                0  Twitter Web App   \n",
       "1  2022-12-04 21:32:28+00:00                0  Twitter Web App   \n",
       "2  2022-12-04 21:32:20+00:00                0  Twitter Web App   \n",
       "3  2022-12-04 21:32:00+00:00                0  Twitter Web App   \n",
       "4  2022-12-04 21:31:50+00:00                0  Twitter Web App   \n",
       "..                       ...              ...              ...   \n",
       "57 2022-12-04 21:18:54+00:00                0  Twitter Web App   \n",
       "58 2022-12-04 21:18:39+00:00                0  Twitter Web App   \n",
       "59 2022-12-04 21:18:27+00:00                0  Twitter Web App   \n",
       "60 2022-12-04 10:42:22+00:00                0  Twitter Web App   \n",
       "61 2022-12-04 10:36:46+00:00                0  Twitter Web App   \n",
       "\n",
       "                                               Tweets  Predictions_Percentange  \n",
       "0   I’m getting my dream car tomorrow. This is a h...                 0.020668  \n",
       "1   At 30, I'm done.\\nHey fuckers It's been one he...                 0.009594  \n",
       "2   I'm dating my dream partner and I feel like I'...                 0.097458  \n",
       "3   I booked my first ever holiday in January 2023...                 0.008645  \n",
       "4   Snoop Dogg's kid show about building emotional...                 0.015143  \n",
       "..                                                ...                      ...  \n",
       "57  My mother won't leave me alone. I'm DESPERATEL...                 0.896468  \n",
       "58  I (15M) got rejected by suicide hotline, wanna...                 0.996210  \n",
       "59  I am a extremely depressed M21 who sometimes t...                 0.978648  \n",
       "60                                         It worked!                 0.309132  \n",
       "61                          Hi, This is test number 1                 0.003791  \n",
       "\n",
       "[62 rows x 5 columns]"
      ]
     },
     "execution_count": 97,
     "metadata": {},
     "output_type": "execute_result"
    }
   ],
   "source": [
    "tweets_df"
   ]
  },
  {
   "cell_type": "code",
   "execution_count": 98,
   "id": "3d8a0eb5",
   "metadata": {},
   "outputs": [],
   "source": [
    "tweets_df[\"Predictions\"]=np.where(tweets_df['Predictions_Percentange']>=0.5, \"Depression\", \"Non-Depression\")\n"
   ]
  },
  {
   "cell_type": "code",
   "execution_count": 99,
   "id": "59ff9ceb",
   "metadata": {
    "scrolled": true
   },
   "outputs": [
    {
     "data": {
      "text/html": [
       "<div>\n",
       "<style scoped>\n",
       "    .dataframe tbody tr th:only-of-type {\n",
       "        vertical-align: middle;\n",
       "    }\n",
       "\n",
       "    .dataframe tbody tr th {\n",
       "        vertical-align: top;\n",
       "    }\n",
       "\n",
       "    .dataframe thead th {\n",
       "        text-align: right;\n",
       "    }\n",
       "</style>\n",
       "<table border=\"1\" class=\"dataframe\">\n",
       "  <thead>\n",
       "    <tr style=\"text-align: right;\">\n",
       "      <th></th>\n",
       "      <th>Date_Created</th>\n",
       "      <th>Number_of_Likes</th>\n",
       "      <th>Source_of_Tweet</th>\n",
       "      <th>Tweets</th>\n",
       "      <th>Predictions_Percentange</th>\n",
       "      <th>Predictions</th>\n",
       "    </tr>\n",
       "  </thead>\n",
       "  <tbody>\n",
       "    <tr>\n",
       "      <th>0</th>\n",
       "      <td>2022-12-04 21:32:43+00:00</td>\n",
       "      <td>0</td>\n",
       "      <td>Twitter Web App</td>\n",
       "      <td>I’m getting my dream car tomorrow. This is a h...</td>\n",
       "      <td>0.020668</td>\n",
       "      <td>Non-Depression</td>\n",
       "    </tr>\n",
       "    <tr>\n",
       "      <th>1</th>\n",
       "      <td>2022-12-04 21:32:28+00:00</td>\n",
       "      <td>0</td>\n",
       "      <td>Twitter Web App</td>\n",
       "      <td>At 30, I'm done.\\nHey fuckers It's been one he...</td>\n",
       "      <td>0.009594</td>\n",
       "      <td>Non-Depression</td>\n",
       "    </tr>\n",
       "    <tr>\n",
       "      <th>2</th>\n",
       "      <td>2022-12-04 21:32:20+00:00</td>\n",
       "      <td>0</td>\n",
       "      <td>Twitter Web App</td>\n",
       "      <td>I'm dating my dream partner and I feel like I'...</td>\n",
       "      <td>0.097458</td>\n",
       "      <td>Non-Depression</td>\n",
       "    </tr>\n",
       "    <tr>\n",
       "      <th>3</th>\n",
       "      <td>2022-12-04 21:32:00+00:00</td>\n",
       "      <td>0</td>\n",
       "      <td>Twitter Web App</td>\n",
       "      <td>I booked my first ever holiday in January 2023...</td>\n",
       "      <td>0.008645</td>\n",
       "      <td>Non-Depression</td>\n",
       "    </tr>\n",
       "    <tr>\n",
       "      <th>4</th>\n",
       "      <td>2022-12-04 21:31:50+00:00</td>\n",
       "      <td>0</td>\n",
       "      <td>Twitter Web App</td>\n",
       "      <td>Snoop Dogg's kid show about building emotional...</td>\n",
       "      <td>0.015143</td>\n",
       "      <td>Non-Depression</td>\n",
       "    </tr>\n",
       "    <tr>\n",
       "      <th>...</th>\n",
       "      <td>...</td>\n",
       "      <td>...</td>\n",
       "      <td>...</td>\n",
       "      <td>...</td>\n",
       "      <td>...</td>\n",
       "      <td>...</td>\n",
       "    </tr>\n",
       "    <tr>\n",
       "      <th>57</th>\n",
       "      <td>2022-12-04 21:18:54+00:00</td>\n",
       "      <td>0</td>\n",
       "      <td>Twitter Web App</td>\n",
       "      <td>My mother won't leave me alone. I'm DESPERATEL...</td>\n",
       "      <td>0.896468</td>\n",
       "      <td>Depression</td>\n",
       "    </tr>\n",
       "    <tr>\n",
       "      <th>58</th>\n",
       "      <td>2022-12-04 21:18:39+00:00</td>\n",
       "      <td>0</td>\n",
       "      <td>Twitter Web App</td>\n",
       "      <td>I (15M) got rejected by suicide hotline, wanna...</td>\n",
       "      <td>0.996210</td>\n",
       "      <td>Depression</td>\n",
       "    </tr>\n",
       "    <tr>\n",
       "      <th>59</th>\n",
       "      <td>2022-12-04 21:18:27+00:00</td>\n",
       "      <td>0</td>\n",
       "      <td>Twitter Web App</td>\n",
       "      <td>I am a extremely depressed M21 who sometimes t...</td>\n",
       "      <td>0.978648</td>\n",
       "      <td>Depression</td>\n",
       "    </tr>\n",
       "    <tr>\n",
       "      <th>60</th>\n",
       "      <td>2022-12-04 10:42:22+00:00</td>\n",
       "      <td>0</td>\n",
       "      <td>Twitter Web App</td>\n",
       "      <td>It worked!</td>\n",
       "      <td>0.309132</td>\n",
       "      <td>Non-Depression</td>\n",
       "    </tr>\n",
       "    <tr>\n",
       "      <th>61</th>\n",
       "      <td>2022-12-04 10:36:46+00:00</td>\n",
       "      <td>0</td>\n",
       "      <td>Twitter Web App</td>\n",
       "      <td>Hi, This is test number 1</td>\n",
       "      <td>0.003791</td>\n",
       "      <td>Non-Depression</td>\n",
       "    </tr>\n",
       "  </tbody>\n",
       "</table>\n",
       "<p>62 rows × 6 columns</p>\n",
       "</div>"
      ],
      "text/plain": [
       "                Date_Created  Number_of_Likes  Source_of_Tweet  \\\n",
       "0  2022-12-04 21:32:43+00:00                0  Twitter Web App   \n",
       "1  2022-12-04 21:32:28+00:00                0  Twitter Web App   \n",
       "2  2022-12-04 21:32:20+00:00                0  Twitter Web App   \n",
       "3  2022-12-04 21:32:00+00:00                0  Twitter Web App   \n",
       "4  2022-12-04 21:31:50+00:00                0  Twitter Web App   \n",
       "..                       ...              ...              ...   \n",
       "57 2022-12-04 21:18:54+00:00                0  Twitter Web App   \n",
       "58 2022-12-04 21:18:39+00:00                0  Twitter Web App   \n",
       "59 2022-12-04 21:18:27+00:00                0  Twitter Web App   \n",
       "60 2022-12-04 10:42:22+00:00                0  Twitter Web App   \n",
       "61 2022-12-04 10:36:46+00:00                0  Twitter Web App   \n",
       "\n",
       "                                               Tweets  \\\n",
       "0   I’m getting my dream car tomorrow. This is a h...   \n",
       "1   At 30, I'm done.\\nHey fuckers It's been one he...   \n",
       "2   I'm dating my dream partner and I feel like I'...   \n",
       "3   I booked my first ever holiday in January 2023...   \n",
       "4   Snoop Dogg's kid show about building emotional...   \n",
       "..                                                ...   \n",
       "57  My mother won't leave me alone. I'm DESPERATEL...   \n",
       "58  I (15M) got rejected by suicide hotline, wanna...   \n",
       "59  I am a extremely depressed M21 who sometimes t...   \n",
       "60                                         It worked!   \n",
       "61                          Hi, This is test number 1   \n",
       "\n",
       "    Predictions_Percentange     Predictions  \n",
       "0                  0.020668  Non-Depression  \n",
       "1                  0.009594  Non-Depression  \n",
       "2                  0.097458  Non-Depression  \n",
       "3                  0.008645  Non-Depression  \n",
       "4                  0.015143  Non-Depression  \n",
       "..                      ...             ...  \n",
       "57                 0.896468      Depression  \n",
       "58                 0.996210      Depression  \n",
       "59                 0.978648      Depression  \n",
       "60                 0.309132  Non-Depression  \n",
       "61                 0.003791  Non-Depression  \n",
       "\n",
       "[62 rows x 6 columns]"
      ]
     },
     "execution_count": 99,
     "metadata": {},
     "output_type": "execute_result"
    }
   ],
   "source": [
    "tweets_df"
   ]
  },
  {
   "cell_type": "markdown",
   "id": "a93f5476",
   "metadata": {},
   "source": [
    "## EDA & Insights"
   ]
  },
  {
   "cell_type": "code",
   "execution_count": 100,
   "id": "07c4103f",
   "metadata": {
    "scrolled": false
   },
   "outputs": [],
   "source": [
    "import plotly.express as px"
   ]
  },
  {
   "cell_type": "markdown",
   "id": "49d6858f",
   "metadata": {},
   "source": [
    "## Splitting date time to get more features and insights "
   ]
  },
  {
   "cell_type": "code",
   "execution_count": 101,
   "id": "0e341fdb",
   "metadata": {},
   "outputs": [],
   "source": [
    "    tweets_df['year'] = tweets_df['Date_Created'].dt.year\n",
    "\n",
    "\n",
    "##Creating the month column form date time stamp.\n",
    "\n",
    "    tweets_df['month'] = tweets_df['Date_Created'].dt.month\n",
    "\n",
    "\n",
    "##Creating the day column form date time stamp.\n",
    "\n",
    "    tweets_df['day'] = tweets_df['Date_Created'].dt.day\n",
    "\n",
    "\n",
    "##Creating the hour column form date time stamp.\n",
    "\n",
    "    tweets_df['hour'] = tweets_df['Date_Created'].dt.hour\n"
   ]
  },
  {
   "cell_type": "code",
   "execution_count": 102,
   "id": "257b810f",
   "metadata": {},
   "outputs": [
    {
     "data": {
      "text/html": [
       "<div>\n",
       "<style scoped>\n",
       "    .dataframe tbody tr th:only-of-type {\n",
       "        vertical-align: middle;\n",
       "    }\n",
       "\n",
       "    .dataframe tbody tr th {\n",
       "        vertical-align: top;\n",
       "    }\n",
       "\n",
       "    .dataframe thead th {\n",
       "        text-align: right;\n",
       "    }\n",
       "</style>\n",
       "<table border=\"1\" class=\"dataframe\">\n",
       "  <thead>\n",
       "    <tr style=\"text-align: right;\">\n",
       "      <th></th>\n",
       "      <th>Date_Created</th>\n",
       "      <th>Number_of_Likes</th>\n",
       "      <th>Source_of_Tweet</th>\n",
       "      <th>Tweets</th>\n",
       "      <th>Predictions_Percentange</th>\n",
       "      <th>Predictions</th>\n",
       "      <th>year</th>\n",
       "      <th>month</th>\n",
       "      <th>day</th>\n",
       "      <th>hour</th>\n",
       "    </tr>\n",
       "  </thead>\n",
       "  <tbody>\n",
       "    <tr>\n",
       "      <th>0</th>\n",
       "      <td>2022-12-04 21:32:43+00:00</td>\n",
       "      <td>0</td>\n",
       "      <td>Twitter Web App</td>\n",
       "      <td>I’m getting my dream car tomorrow. This is a h...</td>\n",
       "      <td>0.020668</td>\n",
       "      <td>Non-Depression</td>\n",
       "      <td>2022</td>\n",
       "      <td>12</td>\n",
       "      <td>4</td>\n",
       "      <td>21</td>\n",
       "    </tr>\n",
       "    <tr>\n",
       "      <th>1</th>\n",
       "      <td>2022-12-04 21:32:28+00:00</td>\n",
       "      <td>0</td>\n",
       "      <td>Twitter Web App</td>\n",
       "      <td>At 30, I'm done.\\nHey fuckers It's been one he...</td>\n",
       "      <td>0.009594</td>\n",
       "      <td>Non-Depression</td>\n",
       "      <td>2022</td>\n",
       "      <td>12</td>\n",
       "      <td>4</td>\n",
       "      <td>21</td>\n",
       "    </tr>\n",
       "    <tr>\n",
       "      <th>2</th>\n",
       "      <td>2022-12-04 21:32:20+00:00</td>\n",
       "      <td>0</td>\n",
       "      <td>Twitter Web App</td>\n",
       "      <td>I'm dating my dream partner and I feel like I'...</td>\n",
       "      <td>0.097458</td>\n",
       "      <td>Non-Depression</td>\n",
       "      <td>2022</td>\n",
       "      <td>12</td>\n",
       "      <td>4</td>\n",
       "      <td>21</td>\n",
       "    </tr>\n",
       "    <tr>\n",
       "      <th>3</th>\n",
       "      <td>2022-12-04 21:32:00+00:00</td>\n",
       "      <td>0</td>\n",
       "      <td>Twitter Web App</td>\n",
       "      <td>I booked my first ever holiday in January 2023...</td>\n",
       "      <td>0.008645</td>\n",
       "      <td>Non-Depression</td>\n",
       "      <td>2022</td>\n",
       "      <td>12</td>\n",
       "      <td>4</td>\n",
       "      <td>21</td>\n",
       "    </tr>\n",
       "    <tr>\n",
       "      <th>4</th>\n",
       "      <td>2022-12-04 21:31:50+00:00</td>\n",
       "      <td>0</td>\n",
       "      <td>Twitter Web App</td>\n",
       "      <td>Snoop Dogg's kid show about building emotional...</td>\n",
       "      <td>0.015143</td>\n",
       "      <td>Non-Depression</td>\n",
       "      <td>2022</td>\n",
       "      <td>12</td>\n",
       "      <td>4</td>\n",
       "      <td>21</td>\n",
       "    </tr>\n",
       "    <tr>\n",
       "      <th>...</th>\n",
       "      <td>...</td>\n",
       "      <td>...</td>\n",
       "      <td>...</td>\n",
       "      <td>...</td>\n",
       "      <td>...</td>\n",
       "      <td>...</td>\n",
       "      <td>...</td>\n",
       "      <td>...</td>\n",
       "      <td>...</td>\n",
       "      <td>...</td>\n",
       "    </tr>\n",
       "    <tr>\n",
       "      <th>57</th>\n",
       "      <td>2022-12-04 21:18:54+00:00</td>\n",
       "      <td>0</td>\n",
       "      <td>Twitter Web App</td>\n",
       "      <td>My mother won't leave me alone. I'm DESPERATEL...</td>\n",
       "      <td>0.896468</td>\n",
       "      <td>Depression</td>\n",
       "      <td>2022</td>\n",
       "      <td>12</td>\n",
       "      <td>4</td>\n",
       "      <td>21</td>\n",
       "    </tr>\n",
       "    <tr>\n",
       "      <th>58</th>\n",
       "      <td>2022-12-04 21:18:39+00:00</td>\n",
       "      <td>0</td>\n",
       "      <td>Twitter Web App</td>\n",
       "      <td>I (15M) got rejected by suicide hotline, wanna...</td>\n",
       "      <td>0.996210</td>\n",
       "      <td>Depression</td>\n",
       "      <td>2022</td>\n",
       "      <td>12</td>\n",
       "      <td>4</td>\n",
       "      <td>21</td>\n",
       "    </tr>\n",
       "    <tr>\n",
       "      <th>59</th>\n",
       "      <td>2022-12-04 21:18:27+00:00</td>\n",
       "      <td>0</td>\n",
       "      <td>Twitter Web App</td>\n",
       "      <td>I am a extremely depressed M21 who sometimes t...</td>\n",
       "      <td>0.978648</td>\n",
       "      <td>Depression</td>\n",
       "      <td>2022</td>\n",
       "      <td>12</td>\n",
       "      <td>4</td>\n",
       "      <td>21</td>\n",
       "    </tr>\n",
       "    <tr>\n",
       "      <th>60</th>\n",
       "      <td>2022-12-04 10:42:22+00:00</td>\n",
       "      <td>0</td>\n",
       "      <td>Twitter Web App</td>\n",
       "      <td>It worked!</td>\n",
       "      <td>0.309132</td>\n",
       "      <td>Non-Depression</td>\n",
       "      <td>2022</td>\n",
       "      <td>12</td>\n",
       "      <td>4</td>\n",
       "      <td>10</td>\n",
       "    </tr>\n",
       "    <tr>\n",
       "      <th>61</th>\n",
       "      <td>2022-12-04 10:36:46+00:00</td>\n",
       "      <td>0</td>\n",
       "      <td>Twitter Web App</td>\n",
       "      <td>Hi, This is test number 1</td>\n",
       "      <td>0.003791</td>\n",
       "      <td>Non-Depression</td>\n",
       "      <td>2022</td>\n",
       "      <td>12</td>\n",
       "      <td>4</td>\n",
       "      <td>10</td>\n",
       "    </tr>\n",
       "  </tbody>\n",
       "</table>\n",
       "<p>62 rows × 10 columns</p>\n",
       "</div>"
      ],
      "text/plain": [
       "                Date_Created  Number_of_Likes  Source_of_Tweet  \\\n",
       "0  2022-12-04 21:32:43+00:00                0  Twitter Web App   \n",
       "1  2022-12-04 21:32:28+00:00                0  Twitter Web App   \n",
       "2  2022-12-04 21:32:20+00:00                0  Twitter Web App   \n",
       "3  2022-12-04 21:32:00+00:00                0  Twitter Web App   \n",
       "4  2022-12-04 21:31:50+00:00                0  Twitter Web App   \n",
       "..                       ...              ...              ...   \n",
       "57 2022-12-04 21:18:54+00:00                0  Twitter Web App   \n",
       "58 2022-12-04 21:18:39+00:00                0  Twitter Web App   \n",
       "59 2022-12-04 21:18:27+00:00                0  Twitter Web App   \n",
       "60 2022-12-04 10:42:22+00:00                0  Twitter Web App   \n",
       "61 2022-12-04 10:36:46+00:00                0  Twitter Web App   \n",
       "\n",
       "                                               Tweets  \\\n",
       "0   I’m getting my dream car tomorrow. This is a h...   \n",
       "1   At 30, I'm done.\\nHey fuckers It's been one he...   \n",
       "2   I'm dating my dream partner and I feel like I'...   \n",
       "3   I booked my first ever holiday in January 2023...   \n",
       "4   Snoop Dogg's kid show about building emotional...   \n",
       "..                                                ...   \n",
       "57  My mother won't leave me alone. I'm DESPERATEL...   \n",
       "58  I (15M) got rejected by suicide hotline, wanna...   \n",
       "59  I am a extremely depressed M21 who sometimes t...   \n",
       "60                                         It worked!   \n",
       "61                          Hi, This is test number 1   \n",
       "\n",
       "    Predictions_Percentange     Predictions  year  month  day  hour  \n",
       "0                  0.020668  Non-Depression  2022     12    4    21  \n",
       "1                  0.009594  Non-Depression  2022     12    4    21  \n",
       "2                  0.097458  Non-Depression  2022     12    4    21  \n",
       "3                  0.008645  Non-Depression  2022     12    4    21  \n",
       "4                  0.015143  Non-Depression  2022     12    4    21  \n",
       "..                      ...             ...   ...    ...  ...   ...  \n",
       "57                 0.896468      Depression  2022     12    4    21  \n",
       "58                 0.996210      Depression  2022     12    4    21  \n",
       "59                 0.978648      Depression  2022     12    4    21  \n",
       "60                 0.309132  Non-Depression  2022     12    4    10  \n",
       "61                 0.003791  Non-Depression  2022     12    4    10  \n",
       "\n",
       "[62 rows x 10 columns]"
      ]
     },
     "execution_count": 102,
     "metadata": {},
     "output_type": "execute_result"
    }
   ],
   "source": [
    "tweets_df"
   ]
  },
  {
   "cell_type": "markdown",
   "id": "dd54ee17",
   "metadata": {},
   "source": [
    "## We're All Set Time To Explore Our Data!!"
   ]
  },
  {
   "cell_type": "code",
   "execution_count": 103,
   "id": "5174a311",
   "metadata": {
    "scrolled": true
   },
   "outputs": [
    {
     "data": {
      "application/vnd.plotly.v1+json": {
       "config": {
        "plotlyServerURL": "https://plot.ly"
       },
       "data": [
        {
         "alignmentgroup": "True",
         "hovertemplate": "Predictions=%{y}<br>month=%{x}<extra></extra>",
         "legendgroup": "Non-Depression",
         "marker": {
          "color": "#636efa",
          "pattern": {
           "shape": ""
          }
         },
         "name": "Non-Depression",
         "offsetgroup": "Non-Depression",
         "orientation": "h",
         "showlegend": true,
         "textposition": "auto",
         "type": "bar",
         "x": [
          12,
          12,
          12,
          12,
          12,
          12,
          12,
          12,
          12,
          12,
          12,
          12,
          12,
          12,
          12,
          12,
          12,
          12,
          12,
          12,
          12,
          12,
          12,
          12,
          12,
          12,
          12,
          12,
          12,
          12,
          12,
          12,
          12,
          12,
          12,
          12,
          12
         ],
         "xaxis": "x",
         "y": [
          "Non-Depression",
          "Non-Depression",
          "Non-Depression",
          "Non-Depression",
          "Non-Depression",
          "Non-Depression",
          "Non-Depression",
          "Non-Depression",
          "Non-Depression",
          "Non-Depression",
          "Non-Depression",
          "Non-Depression",
          "Non-Depression",
          "Non-Depression",
          "Non-Depression",
          "Non-Depression",
          "Non-Depression",
          "Non-Depression",
          "Non-Depression",
          "Non-Depression",
          "Non-Depression",
          "Non-Depression",
          "Non-Depression",
          "Non-Depression",
          "Non-Depression",
          "Non-Depression",
          "Non-Depression",
          "Non-Depression",
          "Non-Depression",
          "Non-Depression",
          "Non-Depression",
          "Non-Depression",
          "Non-Depression",
          "Non-Depression",
          "Non-Depression",
          "Non-Depression",
          "Non-Depression"
         ],
         "yaxis": "y"
        },
        {
         "alignmentgroup": "True",
         "hovertemplate": "Predictions=%{y}<br>month=%{x}<extra></extra>",
         "legendgroup": "Depression",
         "marker": {
          "color": "#EF553B",
          "pattern": {
           "shape": ""
          }
         },
         "name": "Depression",
         "offsetgroup": "Depression",
         "orientation": "h",
         "showlegend": true,
         "textposition": "auto",
         "type": "bar",
         "x": [
          12,
          12,
          12,
          12,
          12,
          12,
          12,
          12,
          12,
          12,
          12,
          12,
          12,
          12,
          12,
          12,
          12,
          12,
          12,
          12,
          12,
          12,
          12,
          12,
          12
         ],
         "xaxis": "x",
         "y": [
          "Depression",
          "Depression",
          "Depression",
          "Depression",
          "Depression",
          "Depression",
          "Depression",
          "Depression",
          "Depression",
          "Depression",
          "Depression",
          "Depression",
          "Depression",
          "Depression",
          "Depression",
          "Depression",
          "Depression",
          "Depression",
          "Depression",
          "Depression",
          "Depression",
          "Depression",
          "Depression",
          "Depression",
          "Depression"
         ],
         "yaxis": "y"
        }
       ],
       "layout": {
        "barmode": "relative",
        "legend": {
         "title": {
          "text": "Predictions"
         },
         "tracegroupgap": 0
        },
        "template": {
         "data": {
          "bar": [
           {
            "error_x": {
             "color": "#2a3f5f"
            },
            "error_y": {
             "color": "#2a3f5f"
            },
            "marker": {
             "line": {
              "color": "#E5ECF6",
              "width": 0.5
             },
             "pattern": {
              "fillmode": "overlay",
              "size": 10,
              "solidity": 0.2
             }
            },
            "type": "bar"
           }
          ],
          "barpolar": [
           {
            "marker": {
             "line": {
              "color": "#E5ECF6",
              "width": 0.5
             },
             "pattern": {
              "fillmode": "overlay",
              "size": 10,
              "solidity": 0.2
             }
            },
            "type": "barpolar"
           }
          ],
          "carpet": [
           {
            "aaxis": {
             "endlinecolor": "#2a3f5f",
             "gridcolor": "white",
             "linecolor": "white",
             "minorgridcolor": "white",
             "startlinecolor": "#2a3f5f"
            },
            "baxis": {
             "endlinecolor": "#2a3f5f",
             "gridcolor": "white",
             "linecolor": "white",
             "minorgridcolor": "white",
             "startlinecolor": "#2a3f5f"
            },
            "type": "carpet"
           }
          ],
          "choropleth": [
           {
            "colorbar": {
             "outlinewidth": 0,
             "ticks": ""
            },
            "type": "choropleth"
           }
          ],
          "contour": [
           {
            "colorbar": {
             "outlinewidth": 0,
             "ticks": ""
            },
            "colorscale": [
             [
              0,
              "#0d0887"
             ],
             [
              0.1111111111111111,
              "#46039f"
             ],
             [
              0.2222222222222222,
              "#7201a8"
             ],
             [
              0.3333333333333333,
              "#9c179e"
             ],
             [
              0.4444444444444444,
              "#bd3786"
             ],
             [
              0.5555555555555556,
              "#d8576b"
             ],
             [
              0.6666666666666666,
              "#ed7953"
             ],
             [
              0.7777777777777778,
              "#fb9f3a"
             ],
             [
              0.8888888888888888,
              "#fdca26"
             ],
             [
              1,
              "#f0f921"
             ]
            ],
            "type": "contour"
           }
          ],
          "contourcarpet": [
           {
            "colorbar": {
             "outlinewidth": 0,
             "ticks": ""
            },
            "type": "contourcarpet"
           }
          ],
          "heatmap": [
           {
            "colorbar": {
             "outlinewidth": 0,
             "ticks": ""
            },
            "colorscale": [
             [
              0,
              "#0d0887"
             ],
             [
              0.1111111111111111,
              "#46039f"
             ],
             [
              0.2222222222222222,
              "#7201a8"
             ],
             [
              0.3333333333333333,
              "#9c179e"
             ],
             [
              0.4444444444444444,
              "#bd3786"
             ],
             [
              0.5555555555555556,
              "#d8576b"
             ],
             [
              0.6666666666666666,
              "#ed7953"
             ],
             [
              0.7777777777777778,
              "#fb9f3a"
             ],
             [
              0.8888888888888888,
              "#fdca26"
             ],
             [
              1,
              "#f0f921"
             ]
            ],
            "type": "heatmap"
           }
          ],
          "heatmapgl": [
           {
            "colorbar": {
             "outlinewidth": 0,
             "ticks": ""
            },
            "colorscale": [
             [
              0,
              "#0d0887"
             ],
             [
              0.1111111111111111,
              "#46039f"
             ],
             [
              0.2222222222222222,
              "#7201a8"
             ],
             [
              0.3333333333333333,
              "#9c179e"
             ],
             [
              0.4444444444444444,
              "#bd3786"
             ],
             [
              0.5555555555555556,
              "#d8576b"
             ],
             [
              0.6666666666666666,
              "#ed7953"
             ],
             [
              0.7777777777777778,
              "#fb9f3a"
             ],
             [
              0.8888888888888888,
              "#fdca26"
             ],
             [
              1,
              "#f0f921"
             ]
            ],
            "type": "heatmapgl"
           }
          ],
          "histogram": [
           {
            "marker": {
             "pattern": {
              "fillmode": "overlay",
              "size": 10,
              "solidity": 0.2
             }
            },
            "type": "histogram"
           }
          ],
          "histogram2d": [
           {
            "colorbar": {
             "outlinewidth": 0,
             "ticks": ""
            },
            "colorscale": [
             [
              0,
              "#0d0887"
             ],
             [
              0.1111111111111111,
              "#46039f"
             ],
             [
              0.2222222222222222,
              "#7201a8"
             ],
             [
              0.3333333333333333,
              "#9c179e"
             ],
             [
              0.4444444444444444,
              "#bd3786"
             ],
             [
              0.5555555555555556,
              "#d8576b"
             ],
             [
              0.6666666666666666,
              "#ed7953"
             ],
             [
              0.7777777777777778,
              "#fb9f3a"
             ],
             [
              0.8888888888888888,
              "#fdca26"
             ],
             [
              1,
              "#f0f921"
             ]
            ],
            "type": "histogram2d"
           }
          ],
          "histogram2dcontour": [
           {
            "colorbar": {
             "outlinewidth": 0,
             "ticks": ""
            },
            "colorscale": [
             [
              0,
              "#0d0887"
             ],
             [
              0.1111111111111111,
              "#46039f"
             ],
             [
              0.2222222222222222,
              "#7201a8"
             ],
             [
              0.3333333333333333,
              "#9c179e"
             ],
             [
              0.4444444444444444,
              "#bd3786"
             ],
             [
              0.5555555555555556,
              "#d8576b"
             ],
             [
              0.6666666666666666,
              "#ed7953"
             ],
             [
              0.7777777777777778,
              "#fb9f3a"
             ],
             [
              0.8888888888888888,
              "#fdca26"
             ],
             [
              1,
              "#f0f921"
             ]
            ],
            "type": "histogram2dcontour"
           }
          ],
          "mesh3d": [
           {
            "colorbar": {
             "outlinewidth": 0,
             "ticks": ""
            },
            "type": "mesh3d"
           }
          ],
          "parcoords": [
           {
            "line": {
             "colorbar": {
              "outlinewidth": 0,
              "ticks": ""
             }
            },
            "type": "parcoords"
           }
          ],
          "pie": [
           {
            "automargin": true,
            "type": "pie"
           }
          ],
          "scatter": [
           {
            "marker": {
             "colorbar": {
              "outlinewidth": 0,
              "ticks": ""
             }
            },
            "type": "scatter"
           }
          ],
          "scatter3d": [
           {
            "line": {
             "colorbar": {
              "outlinewidth": 0,
              "ticks": ""
             }
            },
            "marker": {
             "colorbar": {
              "outlinewidth": 0,
              "ticks": ""
             }
            },
            "type": "scatter3d"
           }
          ],
          "scattercarpet": [
           {
            "marker": {
             "colorbar": {
              "outlinewidth": 0,
              "ticks": ""
             }
            },
            "type": "scattercarpet"
           }
          ],
          "scattergeo": [
           {
            "marker": {
             "colorbar": {
              "outlinewidth": 0,
              "ticks": ""
             }
            },
            "type": "scattergeo"
           }
          ],
          "scattergl": [
           {
            "marker": {
             "colorbar": {
              "outlinewidth": 0,
              "ticks": ""
             }
            },
            "type": "scattergl"
           }
          ],
          "scattermapbox": [
           {
            "marker": {
             "colorbar": {
              "outlinewidth": 0,
              "ticks": ""
             }
            },
            "type": "scattermapbox"
           }
          ],
          "scatterpolar": [
           {
            "marker": {
             "colorbar": {
              "outlinewidth": 0,
              "ticks": ""
             }
            },
            "type": "scatterpolar"
           }
          ],
          "scatterpolargl": [
           {
            "marker": {
             "colorbar": {
              "outlinewidth": 0,
              "ticks": ""
             }
            },
            "type": "scatterpolargl"
           }
          ],
          "scatterternary": [
           {
            "marker": {
             "colorbar": {
              "outlinewidth": 0,
              "ticks": ""
             }
            },
            "type": "scatterternary"
           }
          ],
          "surface": [
           {
            "colorbar": {
             "outlinewidth": 0,
             "ticks": ""
            },
            "colorscale": [
             [
              0,
              "#0d0887"
             ],
             [
              0.1111111111111111,
              "#46039f"
             ],
             [
              0.2222222222222222,
              "#7201a8"
             ],
             [
              0.3333333333333333,
              "#9c179e"
             ],
             [
              0.4444444444444444,
              "#bd3786"
             ],
             [
              0.5555555555555556,
              "#d8576b"
             ],
             [
              0.6666666666666666,
              "#ed7953"
             ],
             [
              0.7777777777777778,
              "#fb9f3a"
             ],
             [
              0.8888888888888888,
              "#fdca26"
             ],
             [
              1,
              "#f0f921"
             ]
            ],
            "type": "surface"
           }
          ],
          "table": [
           {
            "cells": {
             "fill": {
              "color": "#EBF0F8"
             },
             "line": {
              "color": "white"
             }
            },
            "header": {
             "fill": {
              "color": "#C8D4E3"
             },
             "line": {
              "color": "white"
             }
            },
            "type": "table"
           }
          ]
         },
         "layout": {
          "annotationdefaults": {
           "arrowcolor": "#2a3f5f",
           "arrowhead": 0,
           "arrowwidth": 1
          },
          "autotypenumbers": "strict",
          "coloraxis": {
           "colorbar": {
            "outlinewidth": 0,
            "ticks": ""
           }
          },
          "colorscale": {
           "diverging": [
            [
             0,
             "#8e0152"
            ],
            [
             0.1,
             "#c51b7d"
            ],
            [
             0.2,
             "#de77ae"
            ],
            [
             0.3,
             "#f1b6da"
            ],
            [
             0.4,
             "#fde0ef"
            ],
            [
             0.5,
             "#f7f7f7"
            ],
            [
             0.6,
             "#e6f5d0"
            ],
            [
             0.7,
             "#b8e186"
            ],
            [
             0.8,
             "#7fbc41"
            ],
            [
             0.9,
             "#4d9221"
            ],
            [
             1,
             "#276419"
            ]
           ],
           "sequential": [
            [
             0,
             "#0d0887"
            ],
            [
             0.1111111111111111,
             "#46039f"
            ],
            [
             0.2222222222222222,
             "#7201a8"
            ],
            [
             0.3333333333333333,
             "#9c179e"
            ],
            [
             0.4444444444444444,
             "#bd3786"
            ],
            [
             0.5555555555555556,
             "#d8576b"
            ],
            [
             0.6666666666666666,
             "#ed7953"
            ],
            [
             0.7777777777777778,
             "#fb9f3a"
            ],
            [
             0.8888888888888888,
             "#fdca26"
            ],
            [
             1,
             "#f0f921"
            ]
           ],
           "sequentialminus": [
            [
             0,
             "#0d0887"
            ],
            [
             0.1111111111111111,
             "#46039f"
            ],
            [
             0.2222222222222222,
             "#7201a8"
            ],
            [
             0.3333333333333333,
             "#9c179e"
            ],
            [
             0.4444444444444444,
             "#bd3786"
            ],
            [
             0.5555555555555556,
             "#d8576b"
            ],
            [
             0.6666666666666666,
             "#ed7953"
            ],
            [
             0.7777777777777778,
             "#fb9f3a"
            ],
            [
             0.8888888888888888,
             "#fdca26"
            ],
            [
             1,
             "#f0f921"
            ]
           ]
          },
          "colorway": [
           "#636efa",
           "#EF553B",
           "#00cc96",
           "#ab63fa",
           "#FFA15A",
           "#19d3f3",
           "#FF6692",
           "#B6E880",
           "#FF97FF",
           "#FECB52"
          ],
          "font": {
           "color": "#2a3f5f"
          },
          "geo": {
           "bgcolor": "white",
           "lakecolor": "white",
           "landcolor": "#E5ECF6",
           "showlakes": true,
           "showland": true,
           "subunitcolor": "white"
          },
          "hoverlabel": {
           "align": "left"
          },
          "hovermode": "closest",
          "mapbox": {
           "style": "light"
          },
          "paper_bgcolor": "white",
          "plot_bgcolor": "#E5ECF6",
          "polar": {
           "angularaxis": {
            "gridcolor": "white",
            "linecolor": "white",
            "ticks": ""
           },
           "bgcolor": "#E5ECF6",
           "radialaxis": {
            "gridcolor": "white",
            "linecolor": "white",
            "ticks": ""
           }
          },
          "scene": {
           "xaxis": {
            "backgroundcolor": "#E5ECF6",
            "gridcolor": "white",
            "gridwidth": 2,
            "linecolor": "white",
            "showbackground": true,
            "ticks": "",
            "zerolinecolor": "white"
           },
           "yaxis": {
            "backgroundcolor": "#E5ECF6",
            "gridcolor": "white",
            "gridwidth": 2,
            "linecolor": "white",
            "showbackground": true,
            "ticks": "",
            "zerolinecolor": "white"
           },
           "zaxis": {
            "backgroundcolor": "#E5ECF6",
            "gridcolor": "white",
            "gridwidth": 2,
            "linecolor": "white",
            "showbackground": true,
            "ticks": "",
            "zerolinecolor": "white"
           }
          },
          "shapedefaults": {
           "line": {
            "color": "#2a3f5f"
           }
          },
          "ternary": {
           "aaxis": {
            "gridcolor": "white",
            "linecolor": "white",
            "ticks": ""
           },
           "baxis": {
            "gridcolor": "white",
            "linecolor": "white",
            "ticks": ""
           },
           "bgcolor": "#E5ECF6",
           "caxis": {
            "gridcolor": "white",
            "linecolor": "white",
            "ticks": ""
           }
          },
          "title": {
           "x": 0.05
          },
          "xaxis": {
           "automargin": true,
           "gridcolor": "white",
           "linecolor": "white",
           "ticks": "",
           "title": {
            "standoff": 15
           },
           "zerolinecolor": "white",
           "zerolinewidth": 2
          },
          "yaxis": {
           "automargin": true,
           "gridcolor": "white",
           "linecolor": "white",
           "ticks": "",
           "title": {
            "standoff": 15
           },
           "zerolinecolor": "white",
           "zerolinewidth": 2
          }
         }
        },
        "title": {
         "text": "Long-Form Input"
        },
        "xaxis": {
         "anchor": "y",
         "domain": [
          0,
          1
         ],
         "title": {
          "text": "month"
         }
        },
        "yaxis": {
         "anchor": "x",
         "categoryarray": [
          "Depression",
          "Non-Depression"
         ],
         "categoryorder": "array",
         "domain": [
          0,
          1
         ],
         "title": {
          "text": "Predictions"
         }
        }
       }
      },
      "text/html": [
       "<div>                            <div id=\"4ce836c4-7b61-4c9b-a62a-67d57d7d97e0\" class=\"plotly-graph-div\" style=\"height:525px; width:100%;\"></div>            <script type=\"text/javascript\">                require([\"plotly\"], function(Plotly) {                    window.PLOTLYENV=window.PLOTLYENV || {};                                    if (document.getElementById(\"4ce836c4-7b61-4c9b-a62a-67d57d7d97e0\")) {                    Plotly.newPlot(                        \"4ce836c4-7b61-4c9b-a62a-67d57d7d97e0\",                        [{\"alignmentgroup\":\"True\",\"hovertemplate\":\"Predictions=%{y}<br>month=%{x}<extra></extra>\",\"legendgroup\":\"Non-Depression\",\"marker\":{\"color\":\"#636efa\",\"pattern\":{\"shape\":\"\"}},\"name\":\"Non-Depression\",\"offsetgroup\":\"Non-Depression\",\"orientation\":\"h\",\"showlegend\":true,\"textposition\":\"auto\",\"x\":[12,12,12,12,12,12,12,12,12,12,12,12,12,12,12,12,12,12,12,12,12,12,12,12,12,12,12,12,12,12,12,12,12,12,12,12,12],\"xaxis\":\"x\",\"y\":[\"Non-Depression\",\"Non-Depression\",\"Non-Depression\",\"Non-Depression\",\"Non-Depression\",\"Non-Depression\",\"Non-Depression\",\"Non-Depression\",\"Non-Depression\",\"Non-Depression\",\"Non-Depression\",\"Non-Depression\",\"Non-Depression\",\"Non-Depression\",\"Non-Depression\",\"Non-Depression\",\"Non-Depression\",\"Non-Depression\",\"Non-Depression\",\"Non-Depression\",\"Non-Depression\",\"Non-Depression\",\"Non-Depression\",\"Non-Depression\",\"Non-Depression\",\"Non-Depression\",\"Non-Depression\",\"Non-Depression\",\"Non-Depression\",\"Non-Depression\",\"Non-Depression\",\"Non-Depression\",\"Non-Depression\",\"Non-Depression\",\"Non-Depression\",\"Non-Depression\",\"Non-Depression\"],\"yaxis\":\"y\",\"type\":\"bar\"},{\"alignmentgroup\":\"True\",\"hovertemplate\":\"Predictions=%{y}<br>month=%{x}<extra></extra>\",\"legendgroup\":\"Depression\",\"marker\":{\"color\":\"#EF553B\",\"pattern\":{\"shape\":\"\"}},\"name\":\"Depression\",\"offsetgroup\":\"Depression\",\"orientation\":\"h\",\"showlegend\":true,\"textposition\":\"auto\",\"x\":[12,12,12,12,12,12,12,12,12,12,12,12,12,12,12,12,12,12,12,12,12,12,12,12,12],\"xaxis\":\"x\",\"y\":[\"Depression\",\"Depression\",\"Depression\",\"Depression\",\"Depression\",\"Depression\",\"Depression\",\"Depression\",\"Depression\",\"Depression\",\"Depression\",\"Depression\",\"Depression\",\"Depression\",\"Depression\",\"Depression\",\"Depression\",\"Depression\",\"Depression\",\"Depression\",\"Depression\",\"Depression\",\"Depression\",\"Depression\",\"Depression\"],\"yaxis\":\"y\",\"type\":\"bar\"}],                        {\"template\":{\"data\":{\"bar\":[{\"error_x\":{\"color\":\"#2a3f5f\"},\"error_y\":{\"color\":\"#2a3f5f\"},\"marker\":{\"line\":{\"color\":\"#E5ECF6\",\"width\":0.5},\"pattern\":{\"fillmode\":\"overlay\",\"size\":10,\"solidity\":0.2}},\"type\":\"bar\"}],\"barpolar\":[{\"marker\":{\"line\":{\"color\":\"#E5ECF6\",\"width\":0.5},\"pattern\":{\"fillmode\":\"overlay\",\"size\":10,\"solidity\":0.2}},\"type\":\"barpolar\"}],\"carpet\":[{\"aaxis\":{\"endlinecolor\":\"#2a3f5f\",\"gridcolor\":\"white\",\"linecolor\":\"white\",\"minorgridcolor\":\"white\",\"startlinecolor\":\"#2a3f5f\"},\"baxis\":{\"endlinecolor\":\"#2a3f5f\",\"gridcolor\":\"white\",\"linecolor\":\"white\",\"minorgridcolor\":\"white\",\"startlinecolor\":\"#2a3f5f\"},\"type\":\"carpet\"}],\"choropleth\":[{\"colorbar\":{\"outlinewidth\":0,\"ticks\":\"\"},\"type\":\"choropleth\"}],\"contour\":[{\"colorbar\":{\"outlinewidth\":0,\"ticks\":\"\"},\"colorscale\":[[0.0,\"#0d0887\"],[0.1111111111111111,\"#46039f\"],[0.2222222222222222,\"#7201a8\"],[0.3333333333333333,\"#9c179e\"],[0.4444444444444444,\"#bd3786\"],[0.5555555555555556,\"#d8576b\"],[0.6666666666666666,\"#ed7953\"],[0.7777777777777778,\"#fb9f3a\"],[0.8888888888888888,\"#fdca26\"],[1.0,\"#f0f921\"]],\"type\":\"contour\"}],\"contourcarpet\":[{\"colorbar\":{\"outlinewidth\":0,\"ticks\":\"\"},\"type\":\"contourcarpet\"}],\"heatmap\":[{\"colorbar\":{\"outlinewidth\":0,\"ticks\":\"\"},\"colorscale\":[[0.0,\"#0d0887\"],[0.1111111111111111,\"#46039f\"],[0.2222222222222222,\"#7201a8\"],[0.3333333333333333,\"#9c179e\"],[0.4444444444444444,\"#bd3786\"],[0.5555555555555556,\"#d8576b\"],[0.6666666666666666,\"#ed7953\"],[0.7777777777777778,\"#fb9f3a\"],[0.8888888888888888,\"#fdca26\"],[1.0,\"#f0f921\"]],\"type\":\"heatmap\"}],\"heatmapgl\":[{\"colorbar\":{\"outlinewidth\":0,\"ticks\":\"\"},\"colorscale\":[[0.0,\"#0d0887\"],[0.1111111111111111,\"#46039f\"],[0.2222222222222222,\"#7201a8\"],[0.3333333333333333,\"#9c179e\"],[0.4444444444444444,\"#bd3786\"],[0.5555555555555556,\"#d8576b\"],[0.6666666666666666,\"#ed7953\"],[0.7777777777777778,\"#fb9f3a\"],[0.8888888888888888,\"#fdca26\"],[1.0,\"#f0f921\"]],\"type\":\"heatmapgl\"}],\"histogram\":[{\"marker\":{\"pattern\":{\"fillmode\":\"overlay\",\"size\":10,\"solidity\":0.2}},\"type\":\"histogram\"}],\"histogram2d\":[{\"colorbar\":{\"outlinewidth\":0,\"ticks\":\"\"},\"colorscale\":[[0.0,\"#0d0887\"],[0.1111111111111111,\"#46039f\"],[0.2222222222222222,\"#7201a8\"],[0.3333333333333333,\"#9c179e\"],[0.4444444444444444,\"#bd3786\"],[0.5555555555555556,\"#d8576b\"],[0.6666666666666666,\"#ed7953\"],[0.7777777777777778,\"#fb9f3a\"],[0.8888888888888888,\"#fdca26\"],[1.0,\"#f0f921\"]],\"type\":\"histogram2d\"}],\"histogram2dcontour\":[{\"colorbar\":{\"outlinewidth\":0,\"ticks\":\"\"},\"colorscale\":[[0.0,\"#0d0887\"],[0.1111111111111111,\"#46039f\"],[0.2222222222222222,\"#7201a8\"],[0.3333333333333333,\"#9c179e\"],[0.4444444444444444,\"#bd3786\"],[0.5555555555555556,\"#d8576b\"],[0.6666666666666666,\"#ed7953\"],[0.7777777777777778,\"#fb9f3a\"],[0.8888888888888888,\"#fdca26\"],[1.0,\"#f0f921\"]],\"type\":\"histogram2dcontour\"}],\"mesh3d\":[{\"colorbar\":{\"outlinewidth\":0,\"ticks\":\"\"},\"type\":\"mesh3d\"}],\"parcoords\":[{\"line\":{\"colorbar\":{\"outlinewidth\":0,\"ticks\":\"\"}},\"type\":\"parcoords\"}],\"pie\":[{\"automargin\":true,\"type\":\"pie\"}],\"scatter\":[{\"marker\":{\"colorbar\":{\"outlinewidth\":0,\"ticks\":\"\"}},\"type\":\"scatter\"}],\"scatter3d\":[{\"line\":{\"colorbar\":{\"outlinewidth\":0,\"ticks\":\"\"}},\"marker\":{\"colorbar\":{\"outlinewidth\":0,\"ticks\":\"\"}},\"type\":\"scatter3d\"}],\"scattercarpet\":[{\"marker\":{\"colorbar\":{\"outlinewidth\":0,\"ticks\":\"\"}},\"type\":\"scattercarpet\"}],\"scattergeo\":[{\"marker\":{\"colorbar\":{\"outlinewidth\":0,\"ticks\":\"\"}},\"type\":\"scattergeo\"}],\"scattergl\":[{\"marker\":{\"colorbar\":{\"outlinewidth\":0,\"ticks\":\"\"}},\"type\":\"scattergl\"}],\"scattermapbox\":[{\"marker\":{\"colorbar\":{\"outlinewidth\":0,\"ticks\":\"\"}},\"type\":\"scattermapbox\"}],\"scatterpolar\":[{\"marker\":{\"colorbar\":{\"outlinewidth\":0,\"ticks\":\"\"}},\"type\":\"scatterpolar\"}],\"scatterpolargl\":[{\"marker\":{\"colorbar\":{\"outlinewidth\":0,\"ticks\":\"\"}},\"type\":\"scatterpolargl\"}],\"scatterternary\":[{\"marker\":{\"colorbar\":{\"outlinewidth\":0,\"ticks\":\"\"}},\"type\":\"scatterternary\"}],\"surface\":[{\"colorbar\":{\"outlinewidth\":0,\"ticks\":\"\"},\"colorscale\":[[0.0,\"#0d0887\"],[0.1111111111111111,\"#46039f\"],[0.2222222222222222,\"#7201a8\"],[0.3333333333333333,\"#9c179e\"],[0.4444444444444444,\"#bd3786\"],[0.5555555555555556,\"#d8576b\"],[0.6666666666666666,\"#ed7953\"],[0.7777777777777778,\"#fb9f3a\"],[0.8888888888888888,\"#fdca26\"],[1.0,\"#f0f921\"]],\"type\":\"surface\"}],\"table\":[{\"cells\":{\"fill\":{\"color\":\"#EBF0F8\"},\"line\":{\"color\":\"white\"}},\"header\":{\"fill\":{\"color\":\"#C8D4E3\"},\"line\":{\"color\":\"white\"}},\"type\":\"table\"}]},\"layout\":{\"annotationdefaults\":{\"arrowcolor\":\"#2a3f5f\",\"arrowhead\":0,\"arrowwidth\":1},\"autotypenumbers\":\"strict\",\"coloraxis\":{\"colorbar\":{\"outlinewidth\":0,\"ticks\":\"\"}},\"colorscale\":{\"diverging\":[[0,\"#8e0152\"],[0.1,\"#c51b7d\"],[0.2,\"#de77ae\"],[0.3,\"#f1b6da\"],[0.4,\"#fde0ef\"],[0.5,\"#f7f7f7\"],[0.6,\"#e6f5d0\"],[0.7,\"#b8e186\"],[0.8,\"#7fbc41\"],[0.9,\"#4d9221\"],[1,\"#276419\"]],\"sequential\":[[0.0,\"#0d0887\"],[0.1111111111111111,\"#46039f\"],[0.2222222222222222,\"#7201a8\"],[0.3333333333333333,\"#9c179e\"],[0.4444444444444444,\"#bd3786\"],[0.5555555555555556,\"#d8576b\"],[0.6666666666666666,\"#ed7953\"],[0.7777777777777778,\"#fb9f3a\"],[0.8888888888888888,\"#fdca26\"],[1.0,\"#f0f921\"]],\"sequentialminus\":[[0.0,\"#0d0887\"],[0.1111111111111111,\"#46039f\"],[0.2222222222222222,\"#7201a8\"],[0.3333333333333333,\"#9c179e\"],[0.4444444444444444,\"#bd3786\"],[0.5555555555555556,\"#d8576b\"],[0.6666666666666666,\"#ed7953\"],[0.7777777777777778,\"#fb9f3a\"],[0.8888888888888888,\"#fdca26\"],[1.0,\"#f0f921\"]]},\"colorway\":[\"#636efa\",\"#EF553B\",\"#00cc96\",\"#ab63fa\",\"#FFA15A\",\"#19d3f3\",\"#FF6692\",\"#B6E880\",\"#FF97FF\",\"#FECB52\"],\"font\":{\"color\":\"#2a3f5f\"},\"geo\":{\"bgcolor\":\"white\",\"lakecolor\":\"white\",\"landcolor\":\"#E5ECF6\",\"showlakes\":true,\"showland\":true,\"subunitcolor\":\"white\"},\"hoverlabel\":{\"align\":\"left\"},\"hovermode\":\"closest\",\"mapbox\":{\"style\":\"light\"},\"paper_bgcolor\":\"white\",\"plot_bgcolor\":\"#E5ECF6\",\"polar\":{\"angularaxis\":{\"gridcolor\":\"white\",\"linecolor\":\"white\",\"ticks\":\"\"},\"bgcolor\":\"#E5ECF6\",\"radialaxis\":{\"gridcolor\":\"white\",\"linecolor\":\"white\",\"ticks\":\"\"}},\"scene\":{\"xaxis\":{\"backgroundcolor\":\"#E5ECF6\",\"gridcolor\":\"white\",\"gridwidth\":2,\"linecolor\":\"white\",\"showbackground\":true,\"ticks\":\"\",\"zerolinecolor\":\"white\"},\"yaxis\":{\"backgroundcolor\":\"#E5ECF6\",\"gridcolor\":\"white\",\"gridwidth\":2,\"linecolor\":\"white\",\"showbackground\":true,\"ticks\":\"\",\"zerolinecolor\":\"white\"},\"zaxis\":{\"backgroundcolor\":\"#E5ECF6\",\"gridcolor\":\"white\",\"gridwidth\":2,\"linecolor\":\"white\",\"showbackground\":true,\"ticks\":\"\",\"zerolinecolor\":\"white\"}},\"shapedefaults\":{\"line\":{\"color\":\"#2a3f5f\"}},\"ternary\":{\"aaxis\":{\"gridcolor\":\"white\",\"linecolor\":\"white\",\"ticks\":\"\"},\"baxis\":{\"gridcolor\":\"white\",\"linecolor\":\"white\",\"ticks\":\"\"},\"bgcolor\":\"#E5ECF6\",\"caxis\":{\"gridcolor\":\"white\",\"linecolor\":\"white\",\"ticks\":\"\"}},\"title\":{\"x\":0.05},\"xaxis\":{\"automargin\":true,\"gridcolor\":\"white\",\"linecolor\":\"white\",\"ticks\":\"\",\"title\":{\"standoff\":15},\"zerolinecolor\":\"white\",\"zerolinewidth\":2},\"yaxis\":{\"automargin\":true,\"gridcolor\":\"white\",\"linecolor\":\"white\",\"ticks\":\"\",\"title\":{\"standoff\":15},\"zerolinecolor\":\"white\",\"zerolinewidth\":2}}},\"xaxis\":{\"anchor\":\"y\",\"domain\":[0.0,1.0],\"title\":{\"text\":\"month\"}},\"yaxis\":{\"anchor\":\"x\",\"domain\":[0.0,1.0],\"title\":{\"text\":\"Predictions\"},\"categoryorder\":\"array\",\"categoryarray\":[\"Depression\",\"Non-Depression\"]},\"legend\":{\"title\":{\"text\":\"Predictions\"},\"tracegroupgap\":0},\"title\":{\"text\":\"Long-Form Input\"},\"barmode\":\"relative\"},                        {\"responsive\": true}                    ).then(function(){\n",
       "                            \n",
       "var gd = document.getElementById('4ce836c4-7b61-4c9b-a62a-67d57d7d97e0');\n",
       "var x = new MutationObserver(function (mutations, observer) {{\n",
       "        var display = window.getComputedStyle(gd).display;\n",
       "        if (!display || display === 'none') {{\n",
       "            console.log([gd, 'removed!']);\n",
       "            Plotly.purge(gd);\n",
       "            observer.disconnect();\n",
       "        }}\n",
       "}});\n",
       "\n",
       "// Listen for the removal of the full notebook cells\n",
       "var notebookContainer = gd.closest('#notebook-container');\n",
       "if (notebookContainer) {{\n",
       "    x.observe(notebookContainer, {childList: true});\n",
       "}}\n",
       "\n",
       "// Listen for the clearing of the current output cell\n",
       "var outputEl = gd.closest('.output');\n",
       "if (outputEl) {{\n",
       "    x.observe(outputEl, {childList: true});\n",
       "}}\n",
       "\n",
       "                        })                };                });            </script>        </div>"
      ]
     },
     "metadata": {},
     "output_type": "display_data"
    }
   ],
   "source": [
    "fig = px.bar(tweets_df, x=\"month\", y=\"Predictions\", color=\"Predictions\", title=\"Long-Form Input\")\n",
    "fig.show();"
   ]
  },
  {
   "cell_type": "markdown",
   "id": "dd30796d",
   "metadata": {},
   "source": [
    "## We want to take a look for the daily tweets of the user to see when the user is tweeting regularly and when his mood going low"
   ]
  },
  {
   "cell_type": "code",
   "execution_count": 104,
   "id": "272ba4a2",
   "metadata": {},
   "outputs": [
    {
     "data": {
      "application/vnd.plotly.v1+json": {
       "config": {
        "plotlyServerURL": "https://plot.ly"
       },
       "data": [
        {
         "hovertemplate": "<b>%{hovertext}</b><br><br>Predictions=Non-Depression<br>day=%{x}<br>month=%{y}<br>Predictions_Percentange=%{marker.size}<extra></extra>",
         "hovertext": [
          "I’m getting my dream car tomorrow. This is a huge accomplishment for me.",
          "At 30, I'm done.\nHey fuckers It's been one hell of a ride, but I'm getting off the roller coaster now. To everyone except the two cunts, thanks for the good times, the laughs, the advice, the love and the help.",
          "I'm dating my dream partner and I feel like I've fallen in love all over again",
          "I booked my first ever holiday in January 2023 and I'm going on my own!!\nI've been abroad before, but with my parents. I'm 19 and have very bad adhd and I have autism. I've booked help with assistance to getting to and from the airport gates.",
          "Snoop Dogg's kid show about building emotional skills is the best thing I've seen all day.",
          "Things have been temporarily going well for me lately.\nSo earlier this year my ex-gf of two years broke up with me out of nowhere and I was absolutely devastated. I even tried to get back with her, but as that always goes, I looked like a creep and a clown.",
          "What in your life have you re focused/ re calibrated as a challenge rather than a problem?",
          "If I had a gun I'd have blown my brain out by now.",
          "I have tourettes and I finally found someone who accepts me completely and he makes me so happy.",
          "I gave a girl with Down Syndrome her basketball back and I felt so happy about it",
          "My wife just made me realize how in love with her I really am.",
          "I played ball with a girl with Down Syndrome\nI played ball with a girl who has Down Syndrome and i'm pretty happy about it. I am a special needs teenager myself. Yesterday i gave her her ball when she dropped it. Me and her have the same Gym class.",
          "It was a rough year - I was broken up with after ten years and had to pretty much reinvent myself. Today is my 27th birthday, and despite all the chaos, I wouldn't want it different, felt like sharing 🙂",
          "In the past week, 2 of my male friends have told me I’m handsome\nAlways had low confidence and self esteem. I was a chubby kid at school and picked on. Often felt incredibly unattractive.",
          "Feels like a very rare percentage of the population actually has empathy\nWhy is everyone such an emotionless robotic shithead I hate this world so much and don’t know how much longer I can exist in it",
          "I just got paid for doing something I really like and it's made me feel more confident bout my career choice.\nI did some SF admin freelance work online and in a week I earned more than what I'm currently earning in a month.",
          "I was bullied all my life, but this year I realized I had real friends for the first time\nI never felt like I belonged when I was growing up. I was constantly judged by even my own friend groups and just always felt lesser.",
          "our friend opened up to us tonight and I know I've found my people now",
          "I finally have a job, I’m doing good in school, I can buy my brother things, along with being able to buy my friends and family things",
          "My 12 year old spaniel mix enjoying the snow. I'm so happy to have her in my life.",
          "Wanted to share this picture of me and my sister that i got to spend time with this past 4 days , i only get to see my siblings 1 time per year most of the times, but when we are together i always forget about my problems.",
          "[Goldman] Chiefs WR JuJu Smith-Schuster says that playing Call of Duty: Warzone with Patrick Mahomes, Travis Kelce and MVS on Friday - they won three games in a row. He says that is what was the difference in their chemistry today.",
          "How to Convert Coal into Diamond Armor in Minecraft",
          "Minecraft world record speedrunner who exposed Dream as a cheat is exposed as a cheat",
          "I need some advice, because I have no idea what to do or what is real or not. I have this long time friend 19M (for 7 years) that has been heavily smoking weed and did lots of drugs, his brain was damaged in the process, he now shows signs of schizophrenia.",
          "I found a refurbished valve index kit from gamestop for $699. It is the full kit and has good reviews. I know valves warranty is extremely good so is it worth getting the kit from valve because of the quality control issues.",
          "Looking for testers for Nintendo-inspired VR game 'Pop Squad' - a shooting adventure set in a world made of balloons",
          "Anyone who has bought a refurbished Valve Index off of GameStop, is it any good and does it come in the box with the cables?",
          "If you've ever worked with Machine Learning or trained an AI model, then I am pretty sure, you've surely encountered the term data augmentation and developers associated with the Data Science and Machine Learning field probably perform data augmentation techniques every day.",
          "Programming Time Card Game - 55 cards with python snippets for kids",
          "Made a library to introduce file based routing in flask. This is similar to modern JavaScript frameworks like NextJS, AstroJS. I like the paradigm because it provides a very wysiwyg experience to routing. The library uses flask built in routing system under the hood.",
          "I don’t understand why people get bored of me. I make new friends, they enjoy my company then immediately ditch me and get closer with my other friends while i stay in the background.\n\nIf I don’t initiate anything, no one will call me or invite me to anything.",
          "I got laid off in mid-October and decided to teach myself how to code. My first public project, Spheri, is a Python/Flask web app that gives you Spotify song recommendations based on your local weather.",
          "I made a little GUI tool that shows the current position of your mouse. Can be useful if you work with pyautogui.",
          "Is there any book or some sort of pdf file that teaches you only about python modules ? Like a single python book that contains the most useful modules that teaches you in depth.",
          "It worked!",
          "Hi, This is test number 1"
         ],
         "legendgroup": "Non-Depression",
         "marker": {
          "color": "#636efa",
          "size": [
           0.020667865872383118,
           0.00959433801472187,
           0.09745752811431885,
           0.008644599467515945,
           0.015142607502639294,
           0.2688296437263489,
           0.03471798822283745,
           0.38657906651496887,
           0.14849816262722015,
           0.011053608730435371,
           0.2684060335159302,
           0.001364929135888815,
           0.05357600376009941,
           0.06472491472959518,
           0.2810352146625519,
           0.004513750784099102,
           0.08388916403055191,
           0.4289255440235138,
           0.05843479558825493,
           0.05672087520360947,
           0.007949823513627052,
           0.0011120246490463614,
           0.0016697087557986379,
           0.0018506082706153393,
           0.032988518476486206,
           0.008487979881465435,
           0.0028442293405532837,
           0.0027686553075909615,
           0.0018750481540337205,
           0.0025763269513845444,
           0.0019761596340686083,
           0.0178892333060503,
           0.001860039192251861,
           0.020459206774830818,
           0.0016550881555303931,
           0.30913224816322327,
           0.0037908866070210934
          ],
          "sizemode": "area",
          "sizeref": 0.0002769849201043447,
          "symbol": "circle"
         },
         "mode": "markers",
         "name": "Non-Depression",
         "orientation": "v",
         "showlegend": true,
         "type": "scatter",
         "x": [
          4,
          4,
          4,
          4,
          4,
          4,
          4,
          4,
          4,
          4,
          4,
          4,
          4,
          4,
          4,
          4,
          4,
          4,
          4,
          4,
          4,
          4,
          4,
          4,
          4,
          4,
          4,
          4,
          4,
          4,
          4,
          4,
          4,
          4,
          4,
          4,
          4
         ],
         "xaxis": "x",
         "y": [
          12,
          12,
          12,
          12,
          12,
          12,
          12,
          12,
          12,
          12,
          12,
          12,
          12,
          12,
          12,
          12,
          12,
          12,
          12,
          12,
          12,
          12,
          12,
          12,
          12,
          12,
          12,
          12,
          12,
          12,
          12,
          12,
          12,
          12,
          12,
          12,
          12
         ],
         "yaxis": "y"
        },
        {
         "hovertemplate": "<b>%{hovertext}</b><br><br>Predictions=Depression<br>day=%{x}<br>month=%{y}<br>Predictions_Percentange=%{marker.size}<extra></extra>",
         "hovertext": [
          "I want to die.\n\nI have childhood trauma.\n\nI have workplace trauma.\n\nTomorrow I'll start a new job and I'm absolutely terrified. The job that gave me trauma has been over for 3 days but I still can't relax.",
          "Why shouldn't I kill myself if I never plan to improve my life?",
          "Why live, honestly what is the point with so much death, crime, hate in the world?",
          "The rope broke\nI feel so terrible and angry. I had been planning this for over two months. I had test the rope and the bar because I was worried the BAR would break. Low and behold the rope, after proving it could hold my full weight, broke.",
          "I think about hanging myself every day but I don't have the courage\nNothing in life fills the void and distractions don't last very long. I don't feel belonging on this planet, I'm just biding my time until I die but I don't want to wait 50 years.",
          "I don't want to die, I just want to disappear.\nI just keep fucking everything up. I can't talk to anyone. I'm in so much pain and I have no idea how to express it. I hate my job, I'm losing sleep, I don't want to do anything anymore.",
          "I just wanna die.\nI looked it up, carbon monoxide is the best death I can give myself. I deserve a good rest, after all. I'm really tired of everything, and nothing makes sense. Nothing makes sense.",
          "For the first time in years I feel happy!\nTitle says it all recently I was diagnosed with ADHD I switched meds some time ago and it feels like someone switched on all the lights and now I genuinely feel my life isn’t hopeless anymore I’m not useless or unloved I was struggling.",
          "“Go to therapy” “people love you” “your worth something” “life’s worth living”\nFucking hell I’m so tired of people saying this when I talk about my thoughts. Why are some people so obsessed at times with tryna save people from suicide? For some of us there are no solutions",
          "I’d rather kill myself than work\nI’m so riddled with mental illnesses working any job makes me want to blow my head off. I would rather die. But I need money to survive so I don’t really know what to do, I know I have to suck it up but I would rather kill myself.",
          "Told my girlfriend I was suicidal and she told me to grow up and other people go through way worse and I shouldn’t be complaining and now I want to kms even more",
          "After months with depression I’m finally feeling that life is good! I bought a bike today to keep my body and mind healthy!",
          "I just want to die\nI tried to commit suicide few days ago by overdosing to one of my medications . I didn't die but I ended up intoxicated .\n\nNow I want to kill myself , however , all of my medications got confiscated . Should I give up the overdosing scenario and just hang mysel",
          "I've been bullied my whole life and treated like shit because of the way I look. I try to improve myself but nothing ever works and now I'm traumatized, self-loathing and severely depressed.",
          "Every time I walk home there is at least one time I’m so tempted to jump in front of a car",
          "Middle aged feeling hopeless\nI am in my early 40's and feel like I really never accomplished anything with my life. I never got married, never had kids, (and since I am a woman never will, likely) never had a career I wanted. I make okay money and can pay my bills...",
          "I don’t know what to do. Therapy, antidepressants, nothing works. I haven’t showered in a week, which is the usual for me. I haven’t left my house in god knows how long. I don’t even wanna eat anymore.",
          "I loved you so much but no matter what you said or did, I just wasn’t content with life. You made me feel so loved and I was soo happy with you yet I still wished I was dead every single day. It’s not you I’ve been struggling with depression my whole life.",
          "Everything I've ever set out to do I've failed, and this includes every relationship I've ever had. I don't expect this trend to change, so I want to have a dignified death before I get so old I begin to fall apart.",
          "I used to be able to go about daily life while feeling at my absolute worst, but I can’t do it anymore. I can’t live with this feeling anymore. Why did this have to happen to me? Why is this life just full of pain?",
          "I feel numb, extremely depressed, apathetic and I want to die. I can't do this anymore",
          "i can’t be with the stars because i don’t want to leave my cats behind. i’m so tired, i’m so tired",
          "My mother won't leave me alone. I'm DESPERATELY in need of help.",
          "I (15M) got rejected by suicide hotline, wanna know what the least messy way to kill myself is",
          "I am a extremely depressed M21 who sometimes think about hanging myself. I need to talk with another men who actually overcome this hell. I need some guidance"
         ],
         "legendgroup": "Depression",
         "marker": {
          "color": "#EF553B",
          "size": [
           0.9826903939247131,
           0.9879385232925415,
           0.9657833576202393,
           0.9876038432121277,
           0.9936177134513855,
           0.9886681437492371,
           0.9922904968261719,
           0.9294019341468811,
           0.9839181303977966,
           0.9971457123756409,
           0.9910774827003479,
           0.9648184180259705,
           0.9957147836685181,
           0.7737954258918762,
           0.9049887657165527,
           0.7033681273460388,
           0.9825552105903625,
           0.6814889907836914,
           0.9644730091094971,
           0.9825412034988403,
           0.9834412336349487,
           0.5515803694725037,
           0.896468460559845,
           0.9962102174758911,
           0.9786479473114014
          ],
          "sizemode": "area",
          "sizeref": 0.0002769849201043447,
          "symbol": "circle"
         },
         "mode": "markers",
         "name": "Depression",
         "orientation": "v",
         "showlegend": true,
         "type": "scatter",
         "x": [
          4,
          4,
          4,
          4,
          4,
          4,
          4,
          4,
          4,
          4,
          4,
          4,
          4,
          4,
          4,
          4,
          4,
          4,
          4,
          4,
          4,
          4,
          4,
          4,
          4
         ],
         "xaxis": "x",
         "y": [
          12,
          12,
          12,
          12,
          12,
          12,
          12,
          12,
          12,
          12,
          12,
          12,
          12,
          12,
          12,
          12,
          12,
          12,
          12,
          12,
          12,
          12,
          12,
          12,
          12
         ],
         "yaxis": "y"
        }
       ],
       "layout": {
        "legend": {
         "itemsizing": "constant",
         "title": {
          "text": "Predictions"
         },
         "tracegroupgap": 0
        },
        "margin": {
         "t": 60
        },
        "template": {
         "data": {
          "bar": [
           {
            "error_x": {
             "color": "#2a3f5f"
            },
            "error_y": {
             "color": "#2a3f5f"
            },
            "marker": {
             "line": {
              "color": "#E5ECF6",
              "width": 0.5
             },
             "pattern": {
              "fillmode": "overlay",
              "size": 10,
              "solidity": 0.2
             }
            },
            "type": "bar"
           }
          ],
          "barpolar": [
           {
            "marker": {
             "line": {
              "color": "#E5ECF6",
              "width": 0.5
             },
             "pattern": {
              "fillmode": "overlay",
              "size": 10,
              "solidity": 0.2
             }
            },
            "type": "barpolar"
           }
          ],
          "carpet": [
           {
            "aaxis": {
             "endlinecolor": "#2a3f5f",
             "gridcolor": "white",
             "linecolor": "white",
             "minorgridcolor": "white",
             "startlinecolor": "#2a3f5f"
            },
            "baxis": {
             "endlinecolor": "#2a3f5f",
             "gridcolor": "white",
             "linecolor": "white",
             "minorgridcolor": "white",
             "startlinecolor": "#2a3f5f"
            },
            "type": "carpet"
           }
          ],
          "choropleth": [
           {
            "colorbar": {
             "outlinewidth": 0,
             "ticks": ""
            },
            "type": "choropleth"
           }
          ],
          "contour": [
           {
            "colorbar": {
             "outlinewidth": 0,
             "ticks": ""
            },
            "colorscale": [
             [
              0,
              "#0d0887"
             ],
             [
              0.1111111111111111,
              "#46039f"
             ],
             [
              0.2222222222222222,
              "#7201a8"
             ],
             [
              0.3333333333333333,
              "#9c179e"
             ],
             [
              0.4444444444444444,
              "#bd3786"
             ],
             [
              0.5555555555555556,
              "#d8576b"
             ],
             [
              0.6666666666666666,
              "#ed7953"
             ],
             [
              0.7777777777777778,
              "#fb9f3a"
             ],
             [
              0.8888888888888888,
              "#fdca26"
             ],
             [
              1,
              "#f0f921"
             ]
            ],
            "type": "contour"
           }
          ],
          "contourcarpet": [
           {
            "colorbar": {
             "outlinewidth": 0,
             "ticks": ""
            },
            "type": "contourcarpet"
           }
          ],
          "heatmap": [
           {
            "colorbar": {
             "outlinewidth": 0,
             "ticks": ""
            },
            "colorscale": [
             [
              0,
              "#0d0887"
             ],
             [
              0.1111111111111111,
              "#46039f"
             ],
             [
              0.2222222222222222,
              "#7201a8"
             ],
             [
              0.3333333333333333,
              "#9c179e"
             ],
             [
              0.4444444444444444,
              "#bd3786"
             ],
             [
              0.5555555555555556,
              "#d8576b"
             ],
             [
              0.6666666666666666,
              "#ed7953"
             ],
             [
              0.7777777777777778,
              "#fb9f3a"
             ],
             [
              0.8888888888888888,
              "#fdca26"
             ],
             [
              1,
              "#f0f921"
             ]
            ],
            "type": "heatmap"
           }
          ],
          "heatmapgl": [
           {
            "colorbar": {
             "outlinewidth": 0,
             "ticks": ""
            },
            "colorscale": [
             [
              0,
              "#0d0887"
             ],
             [
              0.1111111111111111,
              "#46039f"
             ],
             [
              0.2222222222222222,
              "#7201a8"
             ],
             [
              0.3333333333333333,
              "#9c179e"
             ],
             [
              0.4444444444444444,
              "#bd3786"
             ],
             [
              0.5555555555555556,
              "#d8576b"
             ],
             [
              0.6666666666666666,
              "#ed7953"
             ],
             [
              0.7777777777777778,
              "#fb9f3a"
             ],
             [
              0.8888888888888888,
              "#fdca26"
             ],
             [
              1,
              "#f0f921"
             ]
            ],
            "type": "heatmapgl"
           }
          ],
          "histogram": [
           {
            "marker": {
             "pattern": {
              "fillmode": "overlay",
              "size": 10,
              "solidity": 0.2
             }
            },
            "type": "histogram"
           }
          ],
          "histogram2d": [
           {
            "colorbar": {
             "outlinewidth": 0,
             "ticks": ""
            },
            "colorscale": [
             [
              0,
              "#0d0887"
             ],
             [
              0.1111111111111111,
              "#46039f"
             ],
             [
              0.2222222222222222,
              "#7201a8"
             ],
             [
              0.3333333333333333,
              "#9c179e"
             ],
             [
              0.4444444444444444,
              "#bd3786"
             ],
             [
              0.5555555555555556,
              "#d8576b"
             ],
             [
              0.6666666666666666,
              "#ed7953"
             ],
             [
              0.7777777777777778,
              "#fb9f3a"
             ],
             [
              0.8888888888888888,
              "#fdca26"
             ],
             [
              1,
              "#f0f921"
             ]
            ],
            "type": "histogram2d"
           }
          ],
          "histogram2dcontour": [
           {
            "colorbar": {
             "outlinewidth": 0,
             "ticks": ""
            },
            "colorscale": [
             [
              0,
              "#0d0887"
             ],
             [
              0.1111111111111111,
              "#46039f"
             ],
             [
              0.2222222222222222,
              "#7201a8"
             ],
             [
              0.3333333333333333,
              "#9c179e"
             ],
             [
              0.4444444444444444,
              "#bd3786"
             ],
             [
              0.5555555555555556,
              "#d8576b"
             ],
             [
              0.6666666666666666,
              "#ed7953"
             ],
             [
              0.7777777777777778,
              "#fb9f3a"
             ],
             [
              0.8888888888888888,
              "#fdca26"
             ],
             [
              1,
              "#f0f921"
             ]
            ],
            "type": "histogram2dcontour"
           }
          ],
          "mesh3d": [
           {
            "colorbar": {
             "outlinewidth": 0,
             "ticks": ""
            },
            "type": "mesh3d"
           }
          ],
          "parcoords": [
           {
            "line": {
             "colorbar": {
              "outlinewidth": 0,
              "ticks": ""
             }
            },
            "type": "parcoords"
           }
          ],
          "pie": [
           {
            "automargin": true,
            "type": "pie"
           }
          ],
          "scatter": [
           {
            "marker": {
             "colorbar": {
              "outlinewidth": 0,
              "ticks": ""
             }
            },
            "type": "scatter"
           }
          ],
          "scatter3d": [
           {
            "line": {
             "colorbar": {
              "outlinewidth": 0,
              "ticks": ""
             }
            },
            "marker": {
             "colorbar": {
              "outlinewidth": 0,
              "ticks": ""
             }
            },
            "type": "scatter3d"
           }
          ],
          "scattercarpet": [
           {
            "marker": {
             "colorbar": {
              "outlinewidth": 0,
              "ticks": ""
             }
            },
            "type": "scattercarpet"
           }
          ],
          "scattergeo": [
           {
            "marker": {
             "colorbar": {
              "outlinewidth": 0,
              "ticks": ""
             }
            },
            "type": "scattergeo"
           }
          ],
          "scattergl": [
           {
            "marker": {
             "colorbar": {
              "outlinewidth": 0,
              "ticks": ""
             }
            },
            "type": "scattergl"
           }
          ],
          "scattermapbox": [
           {
            "marker": {
             "colorbar": {
              "outlinewidth": 0,
              "ticks": ""
             }
            },
            "type": "scattermapbox"
           }
          ],
          "scatterpolar": [
           {
            "marker": {
             "colorbar": {
              "outlinewidth": 0,
              "ticks": ""
             }
            },
            "type": "scatterpolar"
           }
          ],
          "scatterpolargl": [
           {
            "marker": {
             "colorbar": {
              "outlinewidth": 0,
              "ticks": ""
             }
            },
            "type": "scatterpolargl"
           }
          ],
          "scatterternary": [
           {
            "marker": {
             "colorbar": {
              "outlinewidth": 0,
              "ticks": ""
             }
            },
            "type": "scatterternary"
           }
          ],
          "surface": [
           {
            "colorbar": {
             "outlinewidth": 0,
             "ticks": ""
            },
            "colorscale": [
             [
              0,
              "#0d0887"
             ],
             [
              0.1111111111111111,
              "#46039f"
             ],
             [
              0.2222222222222222,
              "#7201a8"
             ],
             [
              0.3333333333333333,
              "#9c179e"
             ],
             [
              0.4444444444444444,
              "#bd3786"
             ],
             [
              0.5555555555555556,
              "#d8576b"
             ],
             [
              0.6666666666666666,
              "#ed7953"
             ],
             [
              0.7777777777777778,
              "#fb9f3a"
             ],
             [
              0.8888888888888888,
              "#fdca26"
             ],
             [
              1,
              "#f0f921"
             ]
            ],
            "type": "surface"
           }
          ],
          "table": [
           {
            "cells": {
             "fill": {
              "color": "#EBF0F8"
             },
             "line": {
              "color": "white"
             }
            },
            "header": {
             "fill": {
              "color": "#C8D4E3"
             },
             "line": {
              "color": "white"
             }
            },
            "type": "table"
           }
          ]
         },
         "layout": {
          "annotationdefaults": {
           "arrowcolor": "#2a3f5f",
           "arrowhead": 0,
           "arrowwidth": 1
          },
          "autotypenumbers": "strict",
          "coloraxis": {
           "colorbar": {
            "outlinewidth": 0,
            "ticks": ""
           }
          },
          "colorscale": {
           "diverging": [
            [
             0,
             "#8e0152"
            ],
            [
             0.1,
             "#c51b7d"
            ],
            [
             0.2,
             "#de77ae"
            ],
            [
             0.3,
             "#f1b6da"
            ],
            [
             0.4,
             "#fde0ef"
            ],
            [
             0.5,
             "#f7f7f7"
            ],
            [
             0.6,
             "#e6f5d0"
            ],
            [
             0.7,
             "#b8e186"
            ],
            [
             0.8,
             "#7fbc41"
            ],
            [
             0.9,
             "#4d9221"
            ],
            [
             1,
             "#276419"
            ]
           ],
           "sequential": [
            [
             0,
             "#0d0887"
            ],
            [
             0.1111111111111111,
             "#46039f"
            ],
            [
             0.2222222222222222,
             "#7201a8"
            ],
            [
             0.3333333333333333,
             "#9c179e"
            ],
            [
             0.4444444444444444,
             "#bd3786"
            ],
            [
             0.5555555555555556,
             "#d8576b"
            ],
            [
             0.6666666666666666,
             "#ed7953"
            ],
            [
             0.7777777777777778,
             "#fb9f3a"
            ],
            [
             0.8888888888888888,
             "#fdca26"
            ],
            [
             1,
             "#f0f921"
            ]
           ],
           "sequentialminus": [
            [
             0,
             "#0d0887"
            ],
            [
             0.1111111111111111,
             "#46039f"
            ],
            [
             0.2222222222222222,
             "#7201a8"
            ],
            [
             0.3333333333333333,
             "#9c179e"
            ],
            [
             0.4444444444444444,
             "#bd3786"
            ],
            [
             0.5555555555555556,
             "#d8576b"
            ],
            [
             0.6666666666666666,
             "#ed7953"
            ],
            [
             0.7777777777777778,
             "#fb9f3a"
            ],
            [
             0.8888888888888888,
             "#fdca26"
            ],
            [
             1,
             "#f0f921"
            ]
           ]
          },
          "colorway": [
           "#636efa",
           "#EF553B",
           "#00cc96",
           "#ab63fa",
           "#FFA15A",
           "#19d3f3",
           "#FF6692",
           "#B6E880",
           "#FF97FF",
           "#FECB52"
          ],
          "font": {
           "color": "#2a3f5f"
          },
          "geo": {
           "bgcolor": "white",
           "lakecolor": "white",
           "landcolor": "#E5ECF6",
           "showlakes": true,
           "showland": true,
           "subunitcolor": "white"
          },
          "hoverlabel": {
           "align": "left"
          },
          "hovermode": "closest",
          "mapbox": {
           "style": "light"
          },
          "paper_bgcolor": "white",
          "plot_bgcolor": "#E5ECF6",
          "polar": {
           "angularaxis": {
            "gridcolor": "white",
            "linecolor": "white",
            "ticks": ""
           },
           "bgcolor": "#E5ECF6",
           "radialaxis": {
            "gridcolor": "white",
            "linecolor": "white",
            "ticks": ""
           }
          },
          "scene": {
           "xaxis": {
            "backgroundcolor": "#E5ECF6",
            "gridcolor": "white",
            "gridwidth": 2,
            "linecolor": "white",
            "showbackground": true,
            "ticks": "",
            "zerolinecolor": "white"
           },
           "yaxis": {
            "backgroundcolor": "#E5ECF6",
            "gridcolor": "white",
            "gridwidth": 2,
            "linecolor": "white",
            "showbackground": true,
            "ticks": "",
            "zerolinecolor": "white"
           },
           "zaxis": {
            "backgroundcolor": "#E5ECF6",
            "gridcolor": "white",
            "gridwidth": 2,
            "linecolor": "white",
            "showbackground": true,
            "ticks": "",
            "zerolinecolor": "white"
           }
          },
          "shapedefaults": {
           "line": {
            "color": "#2a3f5f"
           }
          },
          "ternary": {
           "aaxis": {
            "gridcolor": "white",
            "linecolor": "white",
            "ticks": ""
           },
           "baxis": {
            "gridcolor": "white",
            "linecolor": "white",
            "ticks": ""
           },
           "bgcolor": "#E5ECF6",
           "caxis": {
            "gridcolor": "white",
            "linecolor": "white",
            "ticks": ""
           }
          },
          "title": {
           "x": 0.05
          },
          "xaxis": {
           "automargin": true,
           "gridcolor": "white",
           "linecolor": "white",
           "ticks": "",
           "title": {
            "standoff": 15
           },
           "zerolinecolor": "white",
           "zerolinewidth": 2
          },
          "yaxis": {
           "automargin": true,
           "gridcolor": "white",
           "linecolor": "white",
           "ticks": "",
           "title": {
            "standoff": 15
           },
           "zerolinecolor": "white",
           "zerolinewidth": 2
          }
         }
        },
        "xaxis": {
         "anchor": "y",
         "domain": [
          0,
          1
         ],
         "title": {
          "text": "day"
         },
         "type": "log"
        },
        "yaxis": {
         "anchor": "x",
         "domain": [
          0,
          1
         ],
         "title": {
          "text": "month"
         }
        }
       }
      },
      "text/html": [
       "<div>                            <div id=\"ef7ff1d8-d8af-4030-bfec-465e6af529e3\" class=\"plotly-graph-div\" style=\"height:525px; width:100%;\"></div>            <script type=\"text/javascript\">                require([\"plotly\"], function(Plotly) {                    window.PLOTLYENV=window.PLOTLYENV || {};                                    if (document.getElementById(\"ef7ff1d8-d8af-4030-bfec-465e6af529e3\")) {                    Plotly.newPlot(                        \"ef7ff1d8-d8af-4030-bfec-465e6af529e3\",                        [{\"hovertemplate\":\"<b>%{hovertext}</b><br><br>Predictions=Non-Depression<br>day=%{x}<br>month=%{y}<br>Predictions_Percentange=%{marker.size}<extra></extra>\",\"hovertext\":[\"I\\u2019m getting my dream car tomorrow. This is a huge accomplishment for me.\",\"At 30, I'm done.\\nHey fuckers It's been one hell of a ride, but I'm getting off the roller coaster now. To everyone except the two cunts, thanks for the good times, the laughs, the advice, the love and the help.\",\"I'm dating my dream partner and I feel like I've fallen in love all over again\",\"I booked my first ever holiday in January 2023 and I'm going on my own!!\\nI've been abroad before, but with my parents. I'm 19 and have very bad adhd and I have autism. I've booked help with assistance to getting to and from the airport gates.\",\"Snoop Dogg's kid show about building emotional skills is the best thing I've seen all day.\",\"Things have been temporarily going well for me lately.\\nSo earlier this year my ex-gf of two years broke up with me out of nowhere and I was absolutely devastated. I even tried to get back with her, but as that always goes, I looked like a creep and a clown.\",\"What in your life have you re focused/ re calibrated as a challenge rather than a problem?\",\"If I had a gun I'd have blown my brain out by now.\",\"I have tourettes and I finally found someone who accepts me completely and he makes me so happy.\",\"I gave a girl with Down Syndrome her basketball back and I felt so happy about it\",\"My wife just made me realize how in love with her I really am.\",\"I played ball with a girl with Down Syndrome\\nI played ball with a girl who has Down Syndrome and i'm pretty happy about it. I am a special needs teenager myself. Yesterday i gave her her ball when she dropped it. Me and her have the same Gym class.\",\"It was a rough year - I was broken up with after ten years and had to pretty much reinvent myself. Today is my 27th birthday, and despite all the chaos, I wouldn't want it different, felt like sharing \\ud83d\\ude42\",\"In the past week, 2 of my male friends have told me I\\u2019m handsome\\nAlways had low confidence and self esteem. I was a chubby kid at school and picked on. Often felt incredibly unattractive.\",\"Feels like a very rare percentage of the population actually has empathy\\nWhy is everyone such an emotionless robotic shithead I hate this world so much and don\\u2019t know how much longer I can exist in it\",\"I just got paid for doing something I really like and it's made me feel more confident bout my career choice.\\nI did some SF admin freelance work online and in a week I earned more than what I'm currently earning in a month.\",\"I was bullied all my life, but this year I realized I had real friends for the first time\\nI never felt like I belonged when I was growing up. I was constantly judged by even my own friend groups and just always felt lesser.\",\"our friend opened up to us tonight and I know I've found my people now\",\"I finally have a job, I\\u2019m doing good in school, I can buy my brother things, along with being able to buy my friends and family things\",\"My 12 year old spaniel mix enjoying the snow. I'm so happy to have her in my life.\",\"Wanted to share this picture of me and my sister that i got to spend time with this past 4 days , i only get to see my siblings 1 time per year most of the times, but when we are together i always forget about my problems.\",\"[Goldman] Chiefs WR JuJu Smith-Schuster says that playing Call of Duty: Warzone with Patrick Mahomes, Travis Kelce and MVS on Friday - they won three games in a row. He says that is what was the difference in their chemistry today.\",\"How to Convert Coal into Diamond Armor in Minecraft\",\"Minecraft world record speedrunner who exposed Dream as a cheat is exposed as a cheat\",\"I need some advice, because I have no idea what to do or what is real or not. I have this long time friend 19M (for 7 years) that has been heavily smoking weed and did lots of drugs, his brain was damaged in the process, he now shows signs of schizophrenia.\",\"I found a refurbished valve index kit from gamestop for $699. It is the full kit and has good reviews. I know valves warranty is extremely good so is it worth getting the kit from valve because of the quality control issues.\",\"Looking for testers for Nintendo-inspired VR game 'Pop Squad' - a shooting adventure set in a world made of balloons\",\"Anyone who has bought a refurbished Valve Index off of GameStop, is it any good and does it come in the box with the cables?\",\"If you've ever worked with Machine Learning or trained an AI model, then I am pretty sure, you've surely encountered the term data augmentation and developers associated with the Data Science and Machine Learning field probably perform data augmentation techniques every day.\",\"Programming Time Card Game - 55 cards with python snippets for kids\",\"Made a library to introduce file based routing in flask. This is similar to modern JavaScript frameworks like NextJS, AstroJS. I like the paradigm because it provides a very wysiwyg experience to routing. The library uses flask built in routing system under the hood.\",\"I don\\u2019t understand why people get bored of me. I make new friends, they enjoy my company then immediately ditch me and get closer with my other friends while i stay in the background.\\n\\nIf I don\\u2019t initiate anything, no one will call me or invite me to anything.\",\"I got laid off in mid-October and decided to teach myself how to code. My first public project, Spheri, is a Python/Flask web app that gives you Spotify song recommendations based on your local weather.\",\"I made a little GUI tool that shows the current position of your mouse. Can be useful if you work with pyautogui.\",\"Is there any book or some sort of pdf file that teaches you only about python modules ? Like a single python book that contains the most useful modules that teaches you in depth.\",\"It worked!\",\"Hi, This is test number 1\"],\"legendgroup\":\"Non-Depression\",\"marker\":{\"color\":\"#636efa\",\"size\":[0.020667865872383118,0.00959433801472187,0.09745752811431885,0.008644599467515945,0.015142607502639294,0.2688296437263489,0.03471798822283745,0.38657906651496887,0.14849816262722015,0.011053608730435371,0.2684060335159302,0.001364929135888815,0.05357600376009941,0.06472491472959518,0.2810352146625519,0.004513750784099102,0.08388916403055191,0.4289255440235138,0.05843479558825493,0.05672087520360947,0.007949823513627052,0.0011120246490463614,0.0016697087557986379,0.0018506082706153393,0.032988518476486206,0.008487979881465435,0.0028442293405532837,0.0027686553075909615,0.0018750481540337205,0.0025763269513845444,0.0019761596340686083,0.0178892333060503,0.001860039192251861,0.020459206774830818,0.0016550881555303931,0.30913224816322327,0.0037908866070210934],\"sizemode\":\"area\",\"sizeref\":0.0002769849201043447,\"symbol\":\"circle\"},\"mode\":\"markers\",\"name\":\"Non-Depression\",\"orientation\":\"v\",\"showlegend\":true,\"x\":[4,4,4,4,4,4,4,4,4,4,4,4,4,4,4,4,4,4,4,4,4,4,4,4,4,4,4,4,4,4,4,4,4,4,4,4,4],\"xaxis\":\"x\",\"y\":[12,12,12,12,12,12,12,12,12,12,12,12,12,12,12,12,12,12,12,12,12,12,12,12,12,12,12,12,12,12,12,12,12,12,12,12,12],\"yaxis\":\"y\",\"type\":\"scatter\"},{\"hovertemplate\":\"<b>%{hovertext}</b><br><br>Predictions=Depression<br>day=%{x}<br>month=%{y}<br>Predictions_Percentange=%{marker.size}<extra></extra>\",\"hovertext\":[\"I want to die.\\n\\nI have childhood trauma.\\n\\nI have workplace trauma.\\n\\nTomorrow I'll start a new job and I'm absolutely terrified. The job that gave me trauma has been over for 3 days but I still can't relax.\",\"Why shouldn't I kill myself if I never plan to improve my life?\",\"Why live, honestly what is the point with so much death, crime, hate in the world?\",\"The rope broke\\nI feel so terrible and angry. I had been planning this for over two months. I had test the rope and the bar because I was worried the BAR would break. Low and behold the rope, after proving it could hold my full weight, broke.\",\"I think about hanging myself every day but I don't have the courage\\nNothing in life fills the void and distractions don't last very long. I don't feel belonging on this planet, I'm just biding my time until I die but I don't want to wait 50 years.\",\"I don't want to die, I just want to disappear.\\nI just keep fucking everything up. I can't talk to anyone. I'm in so much pain and I have no idea how to express it. I hate my job, I'm losing sleep, I don't want to do anything anymore.\",\"I just wanna die.\\nI looked it up, carbon monoxide is the best death I can give myself. I deserve a good rest, after all. I'm really tired of everything, and nothing makes sense. Nothing makes sense.\",\"For the first time in years I feel happy!\\nTitle says it all recently I was diagnosed with ADHD I switched meds some time ago and it feels like someone switched on all the lights and now I genuinely feel my life isn\\u2019t hopeless anymore I\\u2019m not useless or unloved I was struggling.\",\"\\u201cGo to therapy\\u201d \\u201cpeople love you\\u201d \\u201cyour worth something\\u201d \\u201clife\\u2019s worth living\\u201d\\nFucking hell I\\u2019m so tired of people saying this when I talk about my thoughts. Why are some people so obsessed at times with tryna save people from suicide? For some of us there are no solutions\",\"I\\u2019d rather kill myself than work\\nI\\u2019m so riddled with mental illnesses working any job makes me want to blow my head off. I would rather die. But I need money to survive so I don\\u2019t really know what to do, I know I have to suck it up but I would rather kill myself.\",\"Told my girlfriend I was suicidal and she told me to grow up and other people go through way worse and I shouldn\\u2019t be complaining and now I want to kms even more\",\"After months with depression I\\u2019m finally feeling that life is good! I bought a bike today to keep my body and mind healthy!\",\"I just want to die\\nI tried to commit suicide few days ago by overdosing to one of my medications . I didn't die but I ended up intoxicated .\\n\\nNow I want to kill myself , however , all of my medications got confiscated . Should I give up the overdosing scenario and just hang mysel\",\"I've been bullied my whole life and treated like shit because of the way I look. I try to improve myself but nothing ever works and now I'm traumatized, self-loathing and severely depressed.\",\"Every time I walk home there is at least one time I\\u2019m so tempted to jump in front of a car\",\"Middle aged feeling hopeless\\nI am in my early 40's and feel like I really never accomplished anything with my life. I never got married, never had kids, (and since I am a woman never will, likely) never had a career I wanted. I make okay money and can pay my bills...\",\"I don\\u2019t know what to do. Therapy, antidepressants, nothing works. I haven\\u2019t showered in a week, which is the usual for me. I haven\\u2019t left my house in god knows how long. I don\\u2019t even wanna eat anymore.\",\"I loved you so much but no matter what you said or did, I just wasn\\u2019t content with life. You made me feel so loved and I was soo happy with you yet I still wished I was dead every single day. It\\u2019s not you I\\u2019ve been struggling with depression my whole life.\",\"Everything I've ever set out to do I've failed, and this includes every relationship I've ever had. I don't expect this trend to change, so I want to have a dignified death before I get so old I begin to fall apart.\",\"I used to be able to go about daily life while feeling at my absolute worst, but I can\\u2019t do it anymore. I can\\u2019t live with this feeling anymore. Why did this have to happen to me? Why is this life just full of pain?\",\"I feel numb, extremely depressed, apathetic and I want to die. I can't do this anymore\",\"i can\\u2019t be with the stars because i don\\u2019t want to leave my cats behind. i\\u2019m so tired, i\\u2019m so tired\",\"My mother won't leave me alone. I'm DESPERATELY in need of help.\",\"I (15M) got rejected by suicide hotline, wanna know what the least messy way to kill myself is\",\"I am a extremely depressed M21 who sometimes think about hanging myself. I need to talk with another men who actually overcome this hell. I need some guidance\"],\"legendgroup\":\"Depression\",\"marker\":{\"color\":\"#EF553B\",\"size\":[0.9826903939247131,0.9879385232925415,0.9657833576202393,0.9876038432121277,0.9936177134513855,0.9886681437492371,0.9922904968261719,0.9294019341468811,0.9839181303977966,0.9971457123756409,0.9910774827003479,0.9648184180259705,0.9957147836685181,0.7737954258918762,0.9049887657165527,0.7033681273460388,0.9825552105903625,0.6814889907836914,0.9644730091094971,0.9825412034988403,0.9834412336349487,0.5515803694725037,0.896468460559845,0.9962102174758911,0.9786479473114014],\"sizemode\":\"area\",\"sizeref\":0.0002769849201043447,\"symbol\":\"circle\"},\"mode\":\"markers\",\"name\":\"Depression\",\"orientation\":\"v\",\"showlegend\":true,\"x\":[4,4,4,4,4,4,4,4,4,4,4,4,4,4,4,4,4,4,4,4,4,4,4,4,4],\"xaxis\":\"x\",\"y\":[12,12,12,12,12,12,12,12,12,12,12,12,12,12,12,12,12,12,12,12,12,12,12,12,12],\"yaxis\":\"y\",\"type\":\"scatter\"}],                        {\"template\":{\"data\":{\"bar\":[{\"error_x\":{\"color\":\"#2a3f5f\"},\"error_y\":{\"color\":\"#2a3f5f\"},\"marker\":{\"line\":{\"color\":\"#E5ECF6\",\"width\":0.5},\"pattern\":{\"fillmode\":\"overlay\",\"size\":10,\"solidity\":0.2}},\"type\":\"bar\"}],\"barpolar\":[{\"marker\":{\"line\":{\"color\":\"#E5ECF6\",\"width\":0.5},\"pattern\":{\"fillmode\":\"overlay\",\"size\":10,\"solidity\":0.2}},\"type\":\"barpolar\"}],\"carpet\":[{\"aaxis\":{\"endlinecolor\":\"#2a3f5f\",\"gridcolor\":\"white\",\"linecolor\":\"white\",\"minorgridcolor\":\"white\",\"startlinecolor\":\"#2a3f5f\"},\"baxis\":{\"endlinecolor\":\"#2a3f5f\",\"gridcolor\":\"white\",\"linecolor\":\"white\",\"minorgridcolor\":\"white\",\"startlinecolor\":\"#2a3f5f\"},\"type\":\"carpet\"}],\"choropleth\":[{\"colorbar\":{\"outlinewidth\":0,\"ticks\":\"\"},\"type\":\"choropleth\"}],\"contour\":[{\"colorbar\":{\"outlinewidth\":0,\"ticks\":\"\"},\"colorscale\":[[0.0,\"#0d0887\"],[0.1111111111111111,\"#46039f\"],[0.2222222222222222,\"#7201a8\"],[0.3333333333333333,\"#9c179e\"],[0.4444444444444444,\"#bd3786\"],[0.5555555555555556,\"#d8576b\"],[0.6666666666666666,\"#ed7953\"],[0.7777777777777778,\"#fb9f3a\"],[0.8888888888888888,\"#fdca26\"],[1.0,\"#f0f921\"]],\"type\":\"contour\"}],\"contourcarpet\":[{\"colorbar\":{\"outlinewidth\":0,\"ticks\":\"\"},\"type\":\"contourcarpet\"}],\"heatmap\":[{\"colorbar\":{\"outlinewidth\":0,\"ticks\":\"\"},\"colorscale\":[[0.0,\"#0d0887\"],[0.1111111111111111,\"#46039f\"],[0.2222222222222222,\"#7201a8\"],[0.3333333333333333,\"#9c179e\"],[0.4444444444444444,\"#bd3786\"],[0.5555555555555556,\"#d8576b\"],[0.6666666666666666,\"#ed7953\"],[0.7777777777777778,\"#fb9f3a\"],[0.8888888888888888,\"#fdca26\"],[1.0,\"#f0f921\"]],\"type\":\"heatmap\"}],\"heatmapgl\":[{\"colorbar\":{\"outlinewidth\":0,\"ticks\":\"\"},\"colorscale\":[[0.0,\"#0d0887\"],[0.1111111111111111,\"#46039f\"],[0.2222222222222222,\"#7201a8\"],[0.3333333333333333,\"#9c179e\"],[0.4444444444444444,\"#bd3786\"],[0.5555555555555556,\"#d8576b\"],[0.6666666666666666,\"#ed7953\"],[0.7777777777777778,\"#fb9f3a\"],[0.8888888888888888,\"#fdca26\"],[1.0,\"#f0f921\"]],\"type\":\"heatmapgl\"}],\"histogram\":[{\"marker\":{\"pattern\":{\"fillmode\":\"overlay\",\"size\":10,\"solidity\":0.2}},\"type\":\"histogram\"}],\"histogram2d\":[{\"colorbar\":{\"outlinewidth\":0,\"ticks\":\"\"},\"colorscale\":[[0.0,\"#0d0887\"],[0.1111111111111111,\"#46039f\"],[0.2222222222222222,\"#7201a8\"],[0.3333333333333333,\"#9c179e\"],[0.4444444444444444,\"#bd3786\"],[0.5555555555555556,\"#d8576b\"],[0.6666666666666666,\"#ed7953\"],[0.7777777777777778,\"#fb9f3a\"],[0.8888888888888888,\"#fdca26\"],[1.0,\"#f0f921\"]],\"type\":\"histogram2d\"}],\"histogram2dcontour\":[{\"colorbar\":{\"outlinewidth\":0,\"ticks\":\"\"},\"colorscale\":[[0.0,\"#0d0887\"],[0.1111111111111111,\"#46039f\"],[0.2222222222222222,\"#7201a8\"],[0.3333333333333333,\"#9c179e\"],[0.4444444444444444,\"#bd3786\"],[0.5555555555555556,\"#d8576b\"],[0.6666666666666666,\"#ed7953\"],[0.7777777777777778,\"#fb9f3a\"],[0.8888888888888888,\"#fdca26\"],[1.0,\"#f0f921\"]],\"type\":\"histogram2dcontour\"}],\"mesh3d\":[{\"colorbar\":{\"outlinewidth\":0,\"ticks\":\"\"},\"type\":\"mesh3d\"}],\"parcoords\":[{\"line\":{\"colorbar\":{\"outlinewidth\":0,\"ticks\":\"\"}},\"type\":\"parcoords\"}],\"pie\":[{\"automargin\":true,\"type\":\"pie\"}],\"scatter\":[{\"marker\":{\"colorbar\":{\"outlinewidth\":0,\"ticks\":\"\"}},\"type\":\"scatter\"}],\"scatter3d\":[{\"line\":{\"colorbar\":{\"outlinewidth\":0,\"ticks\":\"\"}},\"marker\":{\"colorbar\":{\"outlinewidth\":0,\"ticks\":\"\"}},\"type\":\"scatter3d\"}],\"scattercarpet\":[{\"marker\":{\"colorbar\":{\"outlinewidth\":0,\"ticks\":\"\"}},\"type\":\"scattercarpet\"}],\"scattergeo\":[{\"marker\":{\"colorbar\":{\"outlinewidth\":0,\"ticks\":\"\"}},\"type\":\"scattergeo\"}],\"scattergl\":[{\"marker\":{\"colorbar\":{\"outlinewidth\":0,\"ticks\":\"\"}},\"type\":\"scattergl\"}],\"scattermapbox\":[{\"marker\":{\"colorbar\":{\"outlinewidth\":0,\"ticks\":\"\"}},\"type\":\"scattermapbox\"}],\"scatterpolar\":[{\"marker\":{\"colorbar\":{\"outlinewidth\":0,\"ticks\":\"\"}},\"type\":\"scatterpolar\"}],\"scatterpolargl\":[{\"marker\":{\"colorbar\":{\"outlinewidth\":0,\"ticks\":\"\"}},\"type\":\"scatterpolargl\"}],\"scatterternary\":[{\"marker\":{\"colorbar\":{\"outlinewidth\":0,\"ticks\":\"\"}},\"type\":\"scatterternary\"}],\"surface\":[{\"colorbar\":{\"outlinewidth\":0,\"ticks\":\"\"},\"colorscale\":[[0.0,\"#0d0887\"],[0.1111111111111111,\"#46039f\"],[0.2222222222222222,\"#7201a8\"],[0.3333333333333333,\"#9c179e\"],[0.4444444444444444,\"#bd3786\"],[0.5555555555555556,\"#d8576b\"],[0.6666666666666666,\"#ed7953\"],[0.7777777777777778,\"#fb9f3a\"],[0.8888888888888888,\"#fdca26\"],[1.0,\"#f0f921\"]],\"type\":\"surface\"}],\"table\":[{\"cells\":{\"fill\":{\"color\":\"#EBF0F8\"},\"line\":{\"color\":\"white\"}},\"header\":{\"fill\":{\"color\":\"#C8D4E3\"},\"line\":{\"color\":\"white\"}},\"type\":\"table\"}]},\"layout\":{\"annotationdefaults\":{\"arrowcolor\":\"#2a3f5f\",\"arrowhead\":0,\"arrowwidth\":1},\"autotypenumbers\":\"strict\",\"coloraxis\":{\"colorbar\":{\"outlinewidth\":0,\"ticks\":\"\"}},\"colorscale\":{\"diverging\":[[0,\"#8e0152\"],[0.1,\"#c51b7d\"],[0.2,\"#de77ae\"],[0.3,\"#f1b6da\"],[0.4,\"#fde0ef\"],[0.5,\"#f7f7f7\"],[0.6,\"#e6f5d0\"],[0.7,\"#b8e186\"],[0.8,\"#7fbc41\"],[0.9,\"#4d9221\"],[1,\"#276419\"]],\"sequential\":[[0.0,\"#0d0887\"],[0.1111111111111111,\"#46039f\"],[0.2222222222222222,\"#7201a8\"],[0.3333333333333333,\"#9c179e\"],[0.4444444444444444,\"#bd3786\"],[0.5555555555555556,\"#d8576b\"],[0.6666666666666666,\"#ed7953\"],[0.7777777777777778,\"#fb9f3a\"],[0.8888888888888888,\"#fdca26\"],[1.0,\"#f0f921\"]],\"sequentialminus\":[[0.0,\"#0d0887\"],[0.1111111111111111,\"#46039f\"],[0.2222222222222222,\"#7201a8\"],[0.3333333333333333,\"#9c179e\"],[0.4444444444444444,\"#bd3786\"],[0.5555555555555556,\"#d8576b\"],[0.6666666666666666,\"#ed7953\"],[0.7777777777777778,\"#fb9f3a\"],[0.8888888888888888,\"#fdca26\"],[1.0,\"#f0f921\"]]},\"colorway\":[\"#636efa\",\"#EF553B\",\"#00cc96\",\"#ab63fa\",\"#FFA15A\",\"#19d3f3\",\"#FF6692\",\"#B6E880\",\"#FF97FF\",\"#FECB52\"],\"font\":{\"color\":\"#2a3f5f\"},\"geo\":{\"bgcolor\":\"white\",\"lakecolor\":\"white\",\"landcolor\":\"#E5ECF6\",\"showlakes\":true,\"showland\":true,\"subunitcolor\":\"white\"},\"hoverlabel\":{\"align\":\"left\"},\"hovermode\":\"closest\",\"mapbox\":{\"style\":\"light\"},\"paper_bgcolor\":\"white\",\"plot_bgcolor\":\"#E5ECF6\",\"polar\":{\"angularaxis\":{\"gridcolor\":\"white\",\"linecolor\":\"white\",\"ticks\":\"\"},\"bgcolor\":\"#E5ECF6\",\"radialaxis\":{\"gridcolor\":\"white\",\"linecolor\":\"white\",\"ticks\":\"\"}},\"scene\":{\"xaxis\":{\"backgroundcolor\":\"#E5ECF6\",\"gridcolor\":\"white\",\"gridwidth\":2,\"linecolor\":\"white\",\"showbackground\":true,\"ticks\":\"\",\"zerolinecolor\":\"white\"},\"yaxis\":{\"backgroundcolor\":\"#E5ECF6\",\"gridcolor\":\"white\",\"gridwidth\":2,\"linecolor\":\"white\",\"showbackground\":true,\"ticks\":\"\",\"zerolinecolor\":\"white\"},\"zaxis\":{\"backgroundcolor\":\"#E5ECF6\",\"gridcolor\":\"white\",\"gridwidth\":2,\"linecolor\":\"white\",\"showbackground\":true,\"ticks\":\"\",\"zerolinecolor\":\"white\"}},\"shapedefaults\":{\"line\":{\"color\":\"#2a3f5f\"}},\"ternary\":{\"aaxis\":{\"gridcolor\":\"white\",\"linecolor\":\"white\",\"ticks\":\"\"},\"baxis\":{\"gridcolor\":\"white\",\"linecolor\":\"white\",\"ticks\":\"\"},\"bgcolor\":\"#E5ECF6\",\"caxis\":{\"gridcolor\":\"white\",\"linecolor\":\"white\",\"ticks\":\"\"}},\"title\":{\"x\":0.05},\"xaxis\":{\"automargin\":true,\"gridcolor\":\"white\",\"linecolor\":\"white\",\"ticks\":\"\",\"title\":{\"standoff\":15},\"zerolinecolor\":\"white\",\"zerolinewidth\":2},\"yaxis\":{\"automargin\":true,\"gridcolor\":\"white\",\"linecolor\":\"white\",\"ticks\":\"\",\"title\":{\"standoff\":15},\"zerolinecolor\":\"white\",\"zerolinewidth\":2}}},\"xaxis\":{\"anchor\":\"y\",\"domain\":[0.0,1.0],\"title\":{\"text\":\"day\"},\"type\":\"log\"},\"yaxis\":{\"anchor\":\"x\",\"domain\":[0.0,1.0],\"title\":{\"text\":\"month\"}},\"legend\":{\"title\":{\"text\":\"Predictions\"},\"tracegroupgap\":0,\"itemsizing\":\"constant\"},\"margin\":{\"t\":60}},                        {\"responsive\": true}                    ).then(function(){\n",
       "                            \n",
       "var gd = document.getElementById('ef7ff1d8-d8af-4030-bfec-465e6af529e3');\n",
       "var x = new MutationObserver(function (mutations, observer) {{\n",
       "        var display = window.getComputedStyle(gd).display;\n",
       "        if (!display || display === 'none') {{\n",
       "            console.log([gd, 'removed!']);\n",
       "            Plotly.purge(gd);\n",
       "            observer.disconnect();\n",
       "        }}\n",
       "}});\n",
       "\n",
       "// Listen for the removal of the full notebook cells\n",
       "var notebookContainer = gd.closest('#notebook-container');\n",
       "if (notebookContainer) {{\n",
       "    x.observe(notebookContainer, {childList: true});\n",
       "}}\n",
       "\n",
       "// Listen for the clearing of the current output cell\n",
       "var outputEl = gd.closest('.output');\n",
       "if (outputEl) {{\n",
       "    x.observe(outputEl, {childList: true});\n",
       "}}\n",
       "\n",
       "                        })                };                });            </script>        </div>"
      ]
     },
     "metadata": {},
     "output_type": "display_data"
    }
   ],
   "source": [
    "fig = px.scatter(tweets_df , x=\"day\", y=\"month\",\n",
    "       size=\"Predictions_Percentange\", color=\"Predictions\",\n",
    "                 hover_name=\"Tweets\", log_x=True, size_max=60)\n",
    "fig.show()"
   ]
  },
  {
   "cell_type": "markdown",
   "id": "1a75a8a2",
   "metadata": {},
   "source": [
    "## it make sense to zoom in and focus on the midnight .. since almost all of the tweets after midnight have that dark energy.\n",
    "\n",
    "## Let's not wast time and do our plots and answer our questions!"
   ]
  },
  {
   "cell_type": "markdown",
   "id": "36015bd9",
   "metadata": {},
   "source": [
    "## First, We Took  a Copy of The Hour Column Which is The Column We're Intrested in .\n",
    "\n",
    "## in the same time we don't want our original data to get any change."
   ]
  },
  {
   "cell_type": "code",
   "execution_count": 105,
   "id": "dc68832e",
   "metadata": {},
   "outputs": [],
   "source": [
    "midnight = tweets_df[(tweets_df['hour'] <= 5 ) & (tweets_df['hour'] >= 0) ]\n"
   ]
  },
  {
   "cell_type": "markdown",
   "id": "5bfa8af6",
   "metadata": {},
   "source": [
    "## We used the same plot to answer the question"
   ]
  },
  {
   "cell_type": "code",
   "execution_count": 106,
   "id": "d33c673a",
   "metadata": {},
   "outputs": [
    {
     "data": {
      "application/vnd.plotly.v1+json": {
       "config": {
        "plotlyServerURL": "https://plot.ly"
       },
       "data": [],
       "layout": {
        "legend": {
         "itemsizing": "constant",
         "tracegroupgap": 0
        },
        "margin": {
         "t": 60
        },
        "template": {
         "data": {
          "bar": [
           {
            "error_x": {
             "color": "#2a3f5f"
            },
            "error_y": {
             "color": "#2a3f5f"
            },
            "marker": {
             "line": {
              "color": "#E5ECF6",
              "width": 0.5
             },
             "pattern": {
              "fillmode": "overlay",
              "size": 10,
              "solidity": 0.2
             }
            },
            "type": "bar"
           }
          ],
          "barpolar": [
           {
            "marker": {
             "line": {
              "color": "#E5ECF6",
              "width": 0.5
             },
             "pattern": {
              "fillmode": "overlay",
              "size": 10,
              "solidity": 0.2
             }
            },
            "type": "barpolar"
           }
          ],
          "carpet": [
           {
            "aaxis": {
             "endlinecolor": "#2a3f5f",
             "gridcolor": "white",
             "linecolor": "white",
             "minorgridcolor": "white",
             "startlinecolor": "#2a3f5f"
            },
            "baxis": {
             "endlinecolor": "#2a3f5f",
             "gridcolor": "white",
             "linecolor": "white",
             "minorgridcolor": "white",
             "startlinecolor": "#2a3f5f"
            },
            "type": "carpet"
           }
          ],
          "choropleth": [
           {
            "colorbar": {
             "outlinewidth": 0,
             "ticks": ""
            },
            "type": "choropleth"
           }
          ],
          "contour": [
           {
            "colorbar": {
             "outlinewidth": 0,
             "ticks": ""
            },
            "colorscale": [
             [
              0,
              "#0d0887"
             ],
             [
              0.1111111111111111,
              "#46039f"
             ],
             [
              0.2222222222222222,
              "#7201a8"
             ],
             [
              0.3333333333333333,
              "#9c179e"
             ],
             [
              0.4444444444444444,
              "#bd3786"
             ],
             [
              0.5555555555555556,
              "#d8576b"
             ],
             [
              0.6666666666666666,
              "#ed7953"
             ],
             [
              0.7777777777777778,
              "#fb9f3a"
             ],
             [
              0.8888888888888888,
              "#fdca26"
             ],
             [
              1,
              "#f0f921"
             ]
            ],
            "type": "contour"
           }
          ],
          "contourcarpet": [
           {
            "colorbar": {
             "outlinewidth": 0,
             "ticks": ""
            },
            "type": "contourcarpet"
           }
          ],
          "heatmap": [
           {
            "colorbar": {
             "outlinewidth": 0,
             "ticks": ""
            },
            "colorscale": [
             [
              0,
              "#0d0887"
             ],
             [
              0.1111111111111111,
              "#46039f"
             ],
             [
              0.2222222222222222,
              "#7201a8"
             ],
             [
              0.3333333333333333,
              "#9c179e"
             ],
             [
              0.4444444444444444,
              "#bd3786"
             ],
             [
              0.5555555555555556,
              "#d8576b"
             ],
             [
              0.6666666666666666,
              "#ed7953"
             ],
             [
              0.7777777777777778,
              "#fb9f3a"
             ],
             [
              0.8888888888888888,
              "#fdca26"
             ],
             [
              1,
              "#f0f921"
             ]
            ],
            "type": "heatmap"
           }
          ],
          "heatmapgl": [
           {
            "colorbar": {
             "outlinewidth": 0,
             "ticks": ""
            },
            "colorscale": [
             [
              0,
              "#0d0887"
             ],
             [
              0.1111111111111111,
              "#46039f"
             ],
             [
              0.2222222222222222,
              "#7201a8"
             ],
             [
              0.3333333333333333,
              "#9c179e"
             ],
             [
              0.4444444444444444,
              "#bd3786"
             ],
             [
              0.5555555555555556,
              "#d8576b"
             ],
             [
              0.6666666666666666,
              "#ed7953"
             ],
             [
              0.7777777777777778,
              "#fb9f3a"
             ],
             [
              0.8888888888888888,
              "#fdca26"
             ],
             [
              1,
              "#f0f921"
             ]
            ],
            "type": "heatmapgl"
           }
          ],
          "histogram": [
           {
            "marker": {
             "pattern": {
              "fillmode": "overlay",
              "size": 10,
              "solidity": 0.2
             }
            },
            "type": "histogram"
           }
          ],
          "histogram2d": [
           {
            "colorbar": {
             "outlinewidth": 0,
             "ticks": ""
            },
            "colorscale": [
             [
              0,
              "#0d0887"
             ],
             [
              0.1111111111111111,
              "#46039f"
             ],
             [
              0.2222222222222222,
              "#7201a8"
             ],
             [
              0.3333333333333333,
              "#9c179e"
             ],
             [
              0.4444444444444444,
              "#bd3786"
             ],
             [
              0.5555555555555556,
              "#d8576b"
             ],
             [
              0.6666666666666666,
              "#ed7953"
             ],
             [
              0.7777777777777778,
              "#fb9f3a"
             ],
             [
              0.8888888888888888,
              "#fdca26"
             ],
             [
              1,
              "#f0f921"
             ]
            ],
            "type": "histogram2d"
           }
          ],
          "histogram2dcontour": [
           {
            "colorbar": {
             "outlinewidth": 0,
             "ticks": ""
            },
            "colorscale": [
             [
              0,
              "#0d0887"
             ],
             [
              0.1111111111111111,
              "#46039f"
             ],
             [
              0.2222222222222222,
              "#7201a8"
             ],
             [
              0.3333333333333333,
              "#9c179e"
             ],
             [
              0.4444444444444444,
              "#bd3786"
             ],
             [
              0.5555555555555556,
              "#d8576b"
             ],
             [
              0.6666666666666666,
              "#ed7953"
             ],
             [
              0.7777777777777778,
              "#fb9f3a"
             ],
             [
              0.8888888888888888,
              "#fdca26"
             ],
             [
              1,
              "#f0f921"
             ]
            ],
            "type": "histogram2dcontour"
           }
          ],
          "mesh3d": [
           {
            "colorbar": {
             "outlinewidth": 0,
             "ticks": ""
            },
            "type": "mesh3d"
           }
          ],
          "parcoords": [
           {
            "line": {
             "colorbar": {
              "outlinewidth": 0,
              "ticks": ""
             }
            },
            "type": "parcoords"
           }
          ],
          "pie": [
           {
            "automargin": true,
            "type": "pie"
           }
          ],
          "scatter": [
           {
            "marker": {
             "colorbar": {
              "outlinewidth": 0,
              "ticks": ""
             }
            },
            "type": "scatter"
           }
          ],
          "scatter3d": [
           {
            "line": {
             "colorbar": {
              "outlinewidth": 0,
              "ticks": ""
             }
            },
            "marker": {
             "colorbar": {
              "outlinewidth": 0,
              "ticks": ""
             }
            },
            "type": "scatter3d"
           }
          ],
          "scattercarpet": [
           {
            "marker": {
             "colorbar": {
              "outlinewidth": 0,
              "ticks": ""
             }
            },
            "type": "scattercarpet"
           }
          ],
          "scattergeo": [
           {
            "marker": {
             "colorbar": {
              "outlinewidth": 0,
              "ticks": ""
             }
            },
            "type": "scattergeo"
           }
          ],
          "scattergl": [
           {
            "marker": {
             "colorbar": {
              "outlinewidth": 0,
              "ticks": ""
             }
            },
            "type": "scattergl"
           }
          ],
          "scattermapbox": [
           {
            "marker": {
             "colorbar": {
              "outlinewidth": 0,
              "ticks": ""
             }
            },
            "type": "scattermapbox"
           }
          ],
          "scatterpolar": [
           {
            "marker": {
             "colorbar": {
              "outlinewidth": 0,
              "ticks": ""
             }
            },
            "type": "scatterpolar"
           }
          ],
          "scatterpolargl": [
           {
            "marker": {
             "colorbar": {
              "outlinewidth": 0,
              "ticks": ""
             }
            },
            "type": "scatterpolargl"
           }
          ],
          "scatterternary": [
           {
            "marker": {
             "colorbar": {
              "outlinewidth": 0,
              "ticks": ""
             }
            },
            "type": "scatterternary"
           }
          ],
          "surface": [
           {
            "colorbar": {
             "outlinewidth": 0,
             "ticks": ""
            },
            "colorscale": [
             [
              0,
              "#0d0887"
             ],
             [
              0.1111111111111111,
              "#46039f"
             ],
             [
              0.2222222222222222,
              "#7201a8"
             ],
             [
              0.3333333333333333,
              "#9c179e"
             ],
             [
              0.4444444444444444,
              "#bd3786"
             ],
             [
              0.5555555555555556,
              "#d8576b"
             ],
             [
              0.6666666666666666,
              "#ed7953"
             ],
             [
              0.7777777777777778,
              "#fb9f3a"
             ],
             [
              0.8888888888888888,
              "#fdca26"
             ],
             [
              1,
              "#f0f921"
             ]
            ],
            "type": "surface"
           }
          ],
          "table": [
           {
            "cells": {
             "fill": {
              "color": "#EBF0F8"
             },
             "line": {
              "color": "white"
             }
            },
            "header": {
             "fill": {
              "color": "#C8D4E3"
             },
             "line": {
              "color": "white"
             }
            },
            "type": "table"
           }
          ]
         },
         "layout": {
          "annotationdefaults": {
           "arrowcolor": "#2a3f5f",
           "arrowhead": 0,
           "arrowwidth": 1
          },
          "autotypenumbers": "strict",
          "coloraxis": {
           "colorbar": {
            "outlinewidth": 0,
            "ticks": ""
           }
          },
          "colorscale": {
           "diverging": [
            [
             0,
             "#8e0152"
            ],
            [
             0.1,
             "#c51b7d"
            ],
            [
             0.2,
             "#de77ae"
            ],
            [
             0.3,
             "#f1b6da"
            ],
            [
             0.4,
             "#fde0ef"
            ],
            [
             0.5,
             "#f7f7f7"
            ],
            [
             0.6,
             "#e6f5d0"
            ],
            [
             0.7,
             "#b8e186"
            ],
            [
             0.8,
             "#7fbc41"
            ],
            [
             0.9,
             "#4d9221"
            ],
            [
             1,
             "#276419"
            ]
           ],
           "sequential": [
            [
             0,
             "#0d0887"
            ],
            [
             0.1111111111111111,
             "#46039f"
            ],
            [
             0.2222222222222222,
             "#7201a8"
            ],
            [
             0.3333333333333333,
             "#9c179e"
            ],
            [
             0.4444444444444444,
             "#bd3786"
            ],
            [
             0.5555555555555556,
             "#d8576b"
            ],
            [
             0.6666666666666666,
             "#ed7953"
            ],
            [
             0.7777777777777778,
             "#fb9f3a"
            ],
            [
             0.8888888888888888,
             "#fdca26"
            ],
            [
             1,
             "#f0f921"
            ]
           ],
           "sequentialminus": [
            [
             0,
             "#0d0887"
            ],
            [
             0.1111111111111111,
             "#46039f"
            ],
            [
             0.2222222222222222,
             "#7201a8"
            ],
            [
             0.3333333333333333,
             "#9c179e"
            ],
            [
             0.4444444444444444,
             "#bd3786"
            ],
            [
             0.5555555555555556,
             "#d8576b"
            ],
            [
             0.6666666666666666,
             "#ed7953"
            ],
            [
             0.7777777777777778,
             "#fb9f3a"
            ],
            [
             0.8888888888888888,
             "#fdca26"
            ],
            [
             1,
             "#f0f921"
            ]
           ]
          },
          "colorway": [
           "#636efa",
           "#EF553B",
           "#00cc96",
           "#ab63fa",
           "#FFA15A",
           "#19d3f3",
           "#FF6692",
           "#B6E880",
           "#FF97FF",
           "#FECB52"
          ],
          "font": {
           "color": "#2a3f5f"
          },
          "geo": {
           "bgcolor": "white",
           "lakecolor": "white",
           "landcolor": "#E5ECF6",
           "showlakes": true,
           "showland": true,
           "subunitcolor": "white"
          },
          "hoverlabel": {
           "align": "left"
          },
          "hovermode": "closest",
          "mapbox": {
           "style": "light"
          },
          "paper_bgcolor": "white",
          "plot_bgcolor": "#E5ECF6",
          "polar": {
           "angularaxis": {
            "gridcolor": "white",
            "linecolor": "white",
            "ticks": ""
           },
           "bgcolor": "#E5ECF6",
           "radialaxis": {
            "gridcolor": "white",
            "linecolor": "white",
            "ticks": ""
           }
          },
          "scene": {
           "xaxis": {
            "backgroundcolor": "#E5ECF6",
            "gridcolor": "white",
            "gridwidth": 2,
            "linecolor": "white",
            "showbackground": true,
            "ticks": "",
            "zerolinecolor": "white"
           },
           "yaxis": {
            "backgroundcolor": "#E5ECF6",
            "gridcolor": "white",
            "gridwidth": 2,
            "linecolor": "white",
            "showbackground": true,
            "ticks": "",
            "zerolinecolor": "white"
           },
           "zaxis": {
            "backgroundcolor": "#E5ECF6",
            "gridcolor": "white",
            "gridwidth": 2,
            "linecolor": "white",
            "showbackground": true,
            "ticks": "",
            "zerolinecolor": "white"
           }
          },
          "shapedefaults": {
           "line": {
            "color": "#2a3f5f"
           }
          },
          "ternary": {
           "aaxis": {
            "gridcolor": "white",
            "linecolor": "white",
            "ticks": ""
           },
           "baxis": {
            "gridcolor": "white",
            "linecolor": "white",
            "ticks": ""
           },
           "bgcolor": "#E5ECF6",
           "caxis": {
            "gridcolor": "white",
            "linecolor": "white",
            "ticks": ""
           }
          },
          "title": {
           "x": 0.05
          },
          "xaxis": {
           "automargin": true,
           "gridcolor": "white",
           "linecolor": "white",
           "ticks": "",
           "title": {
            "standoff": 15
           },
           "zerolinecolor": "white",
           "zerolinewidth": 2
          },
          "yaxis": {
           "automargin": true,
           "gridcolor": "white",
           "linecolor": "white",
           "ticks": "",
           "title": {
            "standoff": 15
           },
           "zerolinecolor": "white",
           "zerolinewidth": 2
          }
         }
        },
        "xaxis": {
         "anchor": "y",
         "domain": [
          0,
          1
         ],
         "title": {
          "text": "day"
         },
         "type": "log"
        },
        "yaxis": {
         "anchor": "x",
         "domain": [
          0,
          1
         ],
         "title": {
          "text": "hour"
         }
        }
       }
      },
      "text/html": [
       "<div>                            <div id=\"7692e2d6-b951-4d72-81e9-8763c037e3ae\" class=\"plotly-graph-div\" style=\"height:525px; width:100%;\"></div>            <script type=\"text/javascript\">                require([\"plotly\"], function(Plotly) {                    window.PLOTLYENV=window.PLOTLYENV || {};                                    if (document.getElementById(\"7692e2d6-b951-4d72-81e9-8763c037e3ae\")) {                    Plotly.newPlot(                        \"7692e2d6-b951-4d72-81e9-8763c037e3ae\",                        [],                        {\"template\":{\"data\":{\"bar\":[{\"error_x\":{\"color\":\"#2a3f5f\"},\"error_y\":{\"color\":\"#2a3f5f\"},\"marker\":{\"line\":{\"color\":\"#E5ECF6\",\"width\":0.5},\"pattern\":{\"fillmode\":\"overlay\",\"size\":10,\"solidity\":0.2}},\"type\":\"bar\"}],\"barpolar\":[{\"marker\":{\"line\":{\"color\":\"#E5ECF6\",\"width\":0.5},\"pattern\":{\"fillmode\":\"overlay\",\"size\":10,\"solidity\":0.2}},\"type\":\"barpolar\"}],\"carpet\":[{\"aaxis\":{\"endlinecolor\":\"#2a3f5f\",\"gridcolor\":\"white\",\"linecolor\":\"white\",\"minorgridcolor\":\"white\",\"startlinecolor\":\"#2a3f5f\"},\"baxis\":{\"endlinecolor\":\"#2a3f5f\",\"gridcolor\":\"white\",\"linecolor\":\"white\",\"minorgridcolor\":\"white\",\"startlinecolor\":\"#2a3f5f\"},\"type\":\"carpet\"}],\"choropleth\":[{\"colorbar\":{\"outlinewidth\":0,\"ticks\":\"\"},\"type\":\"choropleth\"}],\"contour\":[{\"colorbar\":{\"outlinewidth\":0,\"ticks\":\"\"},\"colorscale\":[[0.0,\"#0d0887\"],[0.1111111111111111,\"#46039f\"],[0.2222222222222222,\"#7201a8\"],[0.3333333333333333,\"#9c179e\"],[0.4444444444444444,\"#bd3786\"],[0.5555555555555556,\"#d8576b\"],[0.6666666666666666,\"#ed7953\"],[0.7777777777777778,\"#fb9f3a\"],[0.8888888888888888,\"#fdca26\"],[1.0,\"#f0f921\"]],\"type\":\"contour\"}],\"contourcarpet\":[{\"colorbar\":{\"outlinewidth\":0,\"ticks\":\"\"},\"type\":\"contourcarpet\"}],\"heatmap\":[{\"colorbar\":{\"outlinewidth\":0,\"ticks\":\"\"},\"colorscale\":[[0.0,\"#0d0887\"],[0.1111111111111111,\"#46039f\"],[0.2222222222222222,\"#7201a8\"],[0.3333333333333333,\"#9c179e\"],[0.4444444444444444,\"#bd3786\"],[0.5555555555555556,\"#d8576b\"],[0.6666666666666666,\"#ed7953\"],[0.7777777777777778,\"#fb9f3a\"],[0.8888888888888888,\"#fdca26\"],[1.0,\"#f0f921\"]],\"type\":\"heatmap\"}],\"heatmapgl\":[{\"colorbar\":{\"outlinewidth\":0,\"ticks\":\"\"},\"colorscale\":[[0.0,\"#0d0887\"],[0.1111111111111111,\"#46039f\"],[0.2222222222222222,\"#7201a8\"],[0.3333333333333333,\"#9c179e\"],[0.4444444444444444,\"#bd3786\"],[0.5555555555555556,\"#d8576b\"],[0.6666666666666666,\"#ed7953\"],[0.7777777777777778,\"#fb9f3a\"],[0.8888888888888888,\"#fdca26\"],[1.0,\"#f0f921\"]],\"type\":\"heatmapgl\"}],\"histogram\":[{\"marker\":{\"pattern\":{\"fillmode\":\"overlay\",\"size\":10,\"solidity\":0.2}},\"type\":\"histogram\"}],\"histogram2d\":[{\"colorbar\":{\"outlinewidth\":0,\"ticks\":\"\"},\"colorscale\":[[0.0,\"#0d0887\"],[0.1111111111111111,\"#46039f\"],[0.2222222222222222,\"#7201a8\"],[0.3333333333333333,\"#9c179e\"],[0.4444444444444444,\"#bd3786\"],[0.5555555555555556,\"#d8576b\"],[0.6666666666666666,\"#ed7953\"],[0.7777777777777778,\"#fb9f3a\"],[0.8888888888888888,\"#fdca26\"],[1.0,\"#f0f921\"]],\"type\":\"histogram2d\"}],\"histogram2dcontour\":[{\"colorbar\":{\"outlinewidth\":0,\"ticks\":\"\"},\"colorscale\":[[0.0,\"#0d0887\"],[0.1111111111111111,\"#46039f\"],[0.2222222222222222,\"#7201a8\"],[0.3333333333333333,\"#9c179e\"],[0.4444444444444444,\"#bd3786\"],[0.5555555555555556,\"#d8576b\"],[0.6666666666666666,\"#ed7953\"],[0.7777777777777778,\"#fb9f3a\"],[0.8888888888888888,\"#fdca26\"],[1.0,\"#f0f921\"]],\"type\":\"histogram2dcontour\"}],\"mesh3d\":[{\"colorbar\":{\"outlinewidth\":0,\"ticks\":\"\"},\"type\":\"mesh3d\"}],\"parcoords\":[{\"line\":{\"colorbar\":{\"outlinewidth\":0,\"ticks\":\"\"}},\"type\":\"parcoords\"}],\"pie\":[{\"automargin\":true,\"type\":\"pie\"}],\"scatter\":[{\"marker\":{\"colorbar\":{\"outlinewidth\":0,\"ticks\":\"\"}},\"type\":\"scatter\"}],\"scatter3d\":[{\"line\":{\"colorbar\":{\"outlinewidth\":0,\"ticks\":\"\"}},\"marker\":{\"colorbar\":{\"outlinewidth\":0,\"ticks\":\"\"}},\"type\":\"scatter3d\"}],\"scattercarpet\":[{\"marker\":{\"colorbar\":{\"outlinewidth\":0,\"ticks\":\"\"}},\"type\":\"scattercarpet\"}],\"scattergeo\":[{\"marker\":{\"colorbar\":{\"outlinewidth\":0,\"ticks\":\"\"}},\"type\":\"scattergeo\"}],\"scattergl\":[{\"marker\":{\"colorbar\":{\"outlinewidth\":0,\"ticks\":\"\"}},\"type\":\"scattergl\"}],\"scattermapbox\":[{\"marker\":{\"colorbar\":{\"outlinewidth\":0,\"ticks\":\"\"}},\"type\":\"scattermapbox\"}],\"scatterpolar\":[{\"marker\":{\"colorbar\":{\"outlinewidth\":0,\"ticks\":\"\"}},\"type\":\"scatterpolar\"}],\"scatterpolargl\":[{\"marker\":{\"colorbar\":{\"outlinewidth\":0,\"ticks\":\"\"}},\"type\":\"scatterpolargl\"}],\"scatterternary\":[{\"marker\":{\"colorbar\":{\"outlinewidth\":0,\"ticks\":\"\"}},\"type\":\"scatterternary\"}],\"surface\":[{\"colorbar\":{\"outlinewidth\":0,\"ticks\":\"\"},\"colorscale\":[[0.0,\"#0d0887\"],[0.1111111111111111,\"#46039f\"],[0.2222222222222222,\"#7201a8\"],[0.3333333333333333,\"#9c179e\"],[0.4444444444444444,\"#bd3786\"],[0.5555555555555556,\"#d8576b\"],[0.6666666666666666,\"#ed7953\"],[0.7777777777777778,\"#fb9f3a\"],[0.8888888888888888,\"#fdca26\"],[1.0,\"#f0f921\"]],\"type\":\"surface\"}],\"table\":[{\"cells\":{\"fill\":{\"color\":\"#EBF0F8\"},\"line\":{\"color\":\"white\"}},\"header\":{\"fill\":{\"color\":\"#C8D4E3\"},\"line\":{\"color\":\"white\"}},\"type\":\"table\"}]},\"layout\":{\"annotationdefaults\":{\"arrowcolor\":\"#2a3f5f\",\"arrowhead\":0,\"arrowwidth\":1},\"autotypenumbers\":\"strict\",\"coloraxis\":{\"colorbar\":{\"outlinewidth\":0,\"ticks\":\"\"}},\"colorscale\":{\"diverging\":[[0,\"#8e0152\"],[0.1,\"#c51b7d\"],[0.2,\"#de77ae\"],[0.3,\"#f1b6da\"],[0.4,\"#fde0ef\"],[0.5,\"#f7f7f7\"],[0.6,\"#e6f5d0\"],[0.7,\"#b8e186\"],[0.8,\"#7fbc41\"],[0.9,\"#4d9221\"],[1,\"#276419\"]],\"sequential\":[[0.0,\"#0d0887\"],[0.1111111111111111,\"#46039f\"],[0.2222222222222222,\"#7201a8\"],[0.3333333333333333,\"#9c179e\"],[0.4444444444444444,\"#bd3786\"],[0.5555555555555556,\"#d8576b\"],[0.6666666666666666,\"#ed7953\"],[0.7777777777777778,\"#fb9f3a\"],[0.8888888888888888,\"#fdca26\"],[1.0,\"#f0f921\"]],\"sequentialminus\":[[0.0,\"#0d0887\"],[0.1111111111111111,\"#46039f\"],[0.2222222222222222,\"#7201a8\"],[0.3333333333333333,\"#9c179e\"],[0.4444444444444444,\"#bd3786\"],[0.5555555555555556,\"#d8576b\"],[0.6666666666666666,\"#ed7953\"],[0.7777777777777778,\"#fb9f3a\"],[0.8888888888888888,\"#fdca26\"],[1.0,\"#f0f921\"]]},\"colorway\":[\"#636efa\",\"#EF553B\",\"#00cc96\",\"#ab63fa\",\"#FFA15A\",\"#19d3f3\",\"#FF6692\",\"#B6E880\",\"#FF97FF\",\"#FECB52\"],\"font\":{\"color\":\"#2a3f5f\"},\"geo\":{\"bgcolor\":\"white\",\"lakecolor\":\"white\",\"landcolor\":\"#E5ECF6\",\"showlakes\":true,\"showland\":true,\"subunitcolor\":\"white\"},\"hoverlabel\":{\"align\":\"left\"},\"hovermode\":\"closest\",\"mapbox\":{\"style\":\"light\"},\"paper_bgcolor\":\"white\",\"plot_bgcolor\":\"#E5ECF6\",\"polar\":{\"angularaxis\":{\"gridcolor\":\"white\",\"linecolor\":\"white\",\"ticks\":\"\"},\"bgcolor\":\"#E5ECF6\",\"radialaxis\":{\"gridcolor\":\"white\",\"linecolor\":\"white\",\"ticks\":\"\"}},\"scene\":{\"xaxis\":{\"backgroundcolor\":\"#E5ECF6\",\"gridcolor\":\"white\",\"gridwidth\":2,\"linecolor\":\"white\",\"showbackground\":true,\"ticks\":\"\",\"zerolinecolor\":\"white\"},\"yaxis\":{\"backgroundcolor\":\"#E5ECF6\",\"gridcolor\":\"white\",\"gridwidth\":2,\"linecolor\":\"white\",\"showbackground\":true,\"ticks\":\"\",\"zerolinecolor\":\"white\"},\"zaxis\":{\"backgroundcolor\":\"#E5ECF6\",\"gridcolor\":\"white\",\"gridwidth\":2,\"linecolor\":\"white\",\"showbackground\":true,\"ticks\":\"\",\"zerolinecolor\":\"white\"}},\"shapedefaults\":{\"line\":{\"color\":\"#2a3f5f\"}},\"ternary\":{\"aaxis\":{\"gridcolor\":\"white\",\"linecolor\":\"white\",\"ticks\":\"\"},\"baxis\":{\"gridcolor\":\"white\",\"linecolor\":\"white\",\"ticks\":\"\"},\"bgcolor\":\"#E5ECF6\",\"caxis\":{\"gridcolor\":\"white\",\"linecolor\":\"white\",\"ticks\":\"\"}},\"title\":{\"x\":0.05},\"xaxis\":{\"automargin\":true,\"gridcolor\":\"white\",\"linecolor\":\"white\",\"ticks\":\"\",\"title\":{\"standoff\":15},\"zerolinecolor\":\"white\",\"zerolinewidth\":2},\"yaxis\":{\"automargin\":true,\"gridcolor\":\"white\",\"linecolor\":\"white\",\"ticks\":\"\",\"title\":{\"standoff\":15},\"zerolinecolor\":\"white\",\"zerolinewidth\":2}}},\"xaxis\":{\"anchor\":\"y\",\"domain\":[0.0,1.0],\"title\":{\"text\":\"day\"},\"type\":\"log\"},\"yaxis\":{\"anchor\":\"x\",\"domain\":[0.0,1.0],\"title\":{\"text\":\"hour\"}},\"legend\":{\"tracegroupgap\":0,\"itemsizing\":\"constant\"},\"margin\":{\"t\":60}},                        {\"responsive\": true}                    ).then(function(){\n",
       "                            \n",
       "var gd = document.getElementById('7692e2d6-b951-4d72-81e9-8763c037e3ae');\n",
       "var x = new MutationObserver(function (mutations, observer) {{\n",
       "        var display = window.getComputedStyle(gd).display;\n",
       "        if (!display || display === 'none') {{\n",
       "            console.log([gd, 'removed!']);\n",
       "            Plotly.purge(gd);\n",
       "            observer.disconnect();\n",
       "        }}\n",
       "}});\n",
       "\n",
       "// Listen for the removal of the full notebook cells\n",
       "var notebookContainer = gd.closest('#notebook-container');\n",
       "if (notebookContainer) {{\n",
       "    x.observe(notebookContainer, {childList: true});\n",
       "}}\n",
       "\n",
       "// Listen for the clearing of the current output cell\n",
       "var outputEl = gd.closest('.output');\n",
       "if (outputEl) {{\n",
       "    x.observe(outputEl, {childList: true});\n",
       "}}\n",
       "\n",
       "                        })                };                });            </script>        </div>"
      ]
     },
     "metadata": {},
     "output_type": "display_data"
    }
   ],
   "source": [
    "fig = px.scatter(midnight , x=\"day\", y=\"hour\",\n",
    "       size=\"Predictions_Percentange\", color=\"Predictions\",\n",
    "                 hover_name=\"Tweets\", log_x=True, size_max=60)\n",
    "fig.show()"
   ]
  },
  {
   "cell_type": "code",
   "execution_count": null,
   "id": "44a40278",
   "metadata": {},
   "outputs": [],
   "source": []
  }
 ],
 "metadata": {
  "kernelspec": {
   "display_name": "Python 3 (ipykernel)",
   "language": "python",
   "name": "python3"
  },
  "language_info": {
   "codemirror_mode": {
    "name": "ipython",
    "version": 3
   },
   "file_extension": ".py",
   "mimetype": "text/x-python",
   "name": "python",
   "nbconvert_exporter": "python",
   "pygments_lexer": "ipython3",
   "version": "3.9.12"
  },
  "vscode": {
   "interpreter": {
    "hash": "949d6ff4871dbeb5a7ca38875d470f3c909aa9872336c2e2afa575d18130e986"
   }
  }
 },
 "nbformat": 4,
 "nbformat_minor": 5
}
